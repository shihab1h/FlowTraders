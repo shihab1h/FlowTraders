{
  "cells": [
    {
      "cell_type": "code",
      "execution_count": 1,
      "metadata": {
        "id": "Z9-qKj5QZhhT"
      },
      "outputs": [],
      "source": [
        "# Based on Zhang/Oxford paper and github/shilewenuw implementation"
      ]
    },
    {
      "cell_type": "code",
      "execution_count": 5,
      "metadata": {
        "id": "-m4oSVRgZhhV"
      },
      "outputs": [],
      "source": [
        "from Model import Model\n",
        "import pandas as pd"
      ]
    },
    {
      "cell_type": "code",
      "execution_count": 6,
      "metadata": {
        "id": "YUnCA-qxZhhV"
      },
      "outputs": [],
      "source": [
        "#dfr = pd.read_csv(\"new_returns.csv\") # returns\n",
        "dff = pd.read_csv(\"new_features.csv\") # features"
      ]
    },
    {
      "cell_type": "code",
      "execution_count": 7,
      "metadata": {
        "colab": {
          "base_uri": "https://localhost:8080/"
        },
        "id": "DvlqJ5gHZhhW",
        "outputId": "398e9dc3-7e05-4923-e4c7-f96fa0186745"
      },
      "outputs": [
        {
          "output_type": "execute_result",
          "data": {
            "text/plain": [
              "(1125, 312)"
            ]
          },
          "metadata": {},
          "execution_count": 7
        }
      ],
      "source": [
        "dff.shape"
      ]
    },
    {
      "cell_type": "code",
      "execution_count": 8,
      "metadata": {
        "colab": {
          "base_uri": "https://localhost:8080/"
        },
        "id": "s7lhfJleZhhX",
        "outputId": "10a36253-4b4b-4316-bb81-fc46e90079cc"
      },
      "outputs": [
        {
          "output_type": "execute_result",
          "data": {
            "text/plain": [
              "['AdM close',\n",
              " 'AL close',\n",
              " 'A close',\n",
              " 'GO close',\n",
              " 'JS close',\n",
              " 'KvW close',\n",
              " 'KA close',\n",
              " 'SA close',\n",
              " 'S close',\n",
              " 'Ve close',\n",
              " 'Vi close',\n",
              " 'Z close']"
            ]
          },
          "metadata": {},
          "execution_count": 8
        }
      ],
      "source": [
        "close_cols = [colname for colname in dff.columns if colname.split()[1] == \"close\"]\n",
        "close_cols"
      ]
    },
    {
      "cell_type": "code",
      "execution_count": 9,
      "metadata": {
        "colab": {
          "base_uri": "https://localhost:8080/",
          "height": 250
        },
        "id": "b60--ZioZhhX",
        "outputId": "4921ff51-cfa8-49bd-95af-9938d0f122a5"
      },
      "outputs": [
        {
          "output_type": "execute_result",
          "data": {
            "text/plain": [
              "          AdM           AL            A          GO         JS        KvW  \\\n",
              "0  229.912597  1048.195089  5258.509097  785.749481  69.970392  21.790732   \n",
              "1  222.457725  1026.394270  5125.827632  767.167567  68.744350  20.976506   \n",
              "2  215.705123  1025.809013  5080.297423  758.672978  69.116046  21.017217   \n",
              "3  219.054413  1035.758381  5120.078868  763.318457  69.215905  21.159707   \n",
              "4  213.922436  1022.882729  5066.500391  753.363860  68.486382  20.966328   \n",
              "\n",
              "            KA           SA          S         Ve           Vi           Z  \n",
              "0  3065.433564  6791.196084  30.613892  61.681587  3877.559631  521.150292  \n",
              "1  3004.030094  6612.089249  29.557249  60.201578  3843.123472  499.684147  \n",
              "2  2963.956251  6939.832461  30.060412  60.136283  3805.161980  499.684147  \n",
              "3  2969.127069  6837.273361  30.146668  60.223342  3811.257294  492.358399  \n",
              "4  2947.366541  6743.632443  30.132292  59.374513  3777.989667  478.388368  "
            ],
            "text/html": [
              "\n",
              "  <div id=\"df-048da29d-8417-49a5-9d09-8c452b0adfb7\">\n",
              "    <div class=\"colab-df-container\">\n",
              "      <div>\n",
              "<style scoped>\n",
              "    .dataframe tbody tr th:only-of-type {\n",
              "        vertical-align: middle;\n",
              "    }\n",
              "\n",
              "    .dataframe tbody tr th {\n",
              "        vertical-align: top;\n",
              "    }\n",
              "\n",
              "    .dataframe thead th {\n",
              "        text-align: right;\n",
              "    }\n",
              "</style>\n",
              "<table border=\"1\" class=\"dataframe\">\n",
              "  <thead>\n",
              "    <tr style=\"text-align: right;\">\n",
              "      <th></th>\n",
              "      <th>AdM</th>\n",
              "      <th>AL</th>\n",
              "      <th>A</th>\n",
              "      <th>GO</th>\n",
              "      <th>JS</th>\n",
              "      <th>KvW</th>\n",
              "      <th>KA</th>\n",
              "      <th>SA</th>\n",
              "      <th>S</th>\n",
              "      <th>Ve</th>\n",
              "      <th>Vi</th>\n",
              "      <th>Z</th>\n",
              "    </tr>\n",
              "  </thead>\n",
              "  <tbody>\n",
              "    <tr>\n",
              "      <th>0</th>\n",
              "      <td>229.912597</td>\n",
              "      <td>1048.195089</td>\n",
              "      <td>5258.509097</td>\n",
              "      <td>785.749481</td>\n",
              "      <td>69.970392</td>\n",
              "      <td>21.790732</td>\n",
              "      <td>3065.433564</td>\n",
              "      <td>6791.196084</td>\n",
              "      <td>30.613892</td>\n",
              "      <td>61.681587</td>\n",
              "      <td>3877.559631</td>\n",
              "      <td>521.150292</td>\n",
              "    </tr>\n",
              "    <tr>\n",
              "      <th>1</th>\n",
              "      <td>222.457725</td>\n",
              "      <td>1026.394270</td>\n",
              "      <td>5125.827632</td>\n",
              "      <td>767.167567</td>\n",
              "      <td>68.744350</td>\n",
              "      <td>20.976506</td>\n",
              "      <td>3004.030094</td>\n",
              "      <td>6612.089249</td>\n",
              "      <td>29.557249</td>\n",
              "      <td>60.201578</td>\n",
              "      <td>3843.123472</td>\n",
              "      <td>499.684147</td>\n",
              "    </tr>\n",
              "    <tr>\n",
              "      <th>2</th>\n",
              "      <td>215.705123</td>\n",
              "      <td>1025.809013</td>\n",
              "      <td>5080.297423</td>\n",
              "      <td>758.672978</td>\n",
              "      <td>69.116046</td>\n",
              "      <td>21.017217</td>\n",
              "      <td>2963.956251</td>\n",
              "      <td>6939.832461</td>\n",
              "      <td>30.060412</td>\n",
              "      <td>60.136283</td>\n",
              "      <td>3805.161980</td>\n",
              "      <td>499.684147</td>\n",
              "    </tr>\n",
              "    <tr>\n",
              "      <th>3</th>\n",
              "      <td>219.054413</td>\n",
              "      <td>1035.758381</td>\n",
              "      <td>5120.078868</td>\n",
              "      <td>763.318457</td>\n",
              "      <td>69.215905</td>\n",
              "      <td>21.159707</td>\n",
              "      <td>2969.127069</td>\n",
              "      <td>6837.273361</td>\n",
              "      <td>30.146668</td>\n",
              "      <td>60.223342</td>\n",
              "      <td>3811.257294</td>\n",
              "      <td>492.358399</td>\n",
              "    </tr>\n",
              "    <tr>\n",
              "      <th>4</th>\n",
              "      <td>213.922436</td>\n",
              "      <td>1022.882729</td>\n",
              "      <td>5066.500391</td>\n",
              "      <td>753.363860</td>\n",
              "      <td>68.486382</td>\n",
              "      <td>20.966328</td>\n",
              "      <td>2947.366541</td>\n",
              "      <td>6743.632443</td>\n",
              "      <td>30.132292</td>\n",
              "      <td>59.374513</td>\n",
              "      <td>3777.989667</td>\n",
              "      <td>478.388368</td>\n",
              "    </tr>\n",
              "  </tbody>\n",
              "</table>\n",
              "</div>\n",
              "      <button class=\"colab-df-convert\" onclick=\"convertToInteractive('df-048da29d-8417-49a5-9d09-8c452b0adfb7')\"\n",
              "              title=\"Convert this dataframe to an interactive table.\"\n",
              "              style=\"display:none;\">\n",
              "        \n",
              "  <svg xmlns=\"http://www.w3.org/2000/svg\" height=\"24px\"viewBox=\"0 0 24 24\"\n",
              "       width=\"24px\">\n",
              "    <path d=\"M0 0h24v24H0V0z\" fill=\"none\"/>\n",
              "    <path d=\"M18.56 5.44l.94 2.06.94-2.06 2.06-.94-2.06-.94-.94-2.06-.94 2.06-2.06.94zm-11 1L8.5 8.5l.94-2.06 2.06-.94-2.06-.94L8.5 2.5l-.94 2.06-2.06.94zm10 10l.94 2.06.94-2.06 2.06-.94-2.06-.94-.94-2.06-.94 2.06-2.06.94z\"/><path d=\"M17.41 7.96l-1.37-1.37c-.4-.4-.92-.59-1.43-.59-.52 0-1.04.2-1.43.59L10.3 9.45l-7.72 7.72c-.78.78-.78 2.05 0 2.83L4 21.41c.39.39.9.59 1.41.59.51 0 1.02-.2 1.41-.59l7.78-7.78 2.81-2.81c.8-.78.8-2.07 0-2.86zM5.41 20L4 18.59l7.72-7.72 1.47 1.35L5.41 20z\"/>\n",
              "  </svg>\n",
              "      </button>\n",
              "      \n",
              "  <style>\n",
              "    .colab-df-container {\n",
              "      display:flex;\n",
              "      flex-wrap:wrap;\n",
              "      gap: 12px;\n",
              "    }\n",
              "\n",
              "    .colab-df-convert {\n",
              "      background-color: #E8F0FE;\n",
              "      border: none;\n",
              "      border-radius: 50%;\n",
              "      cursor: pointer;\n",
              "      display: none;\n",
              "      fill: #1967D2;\n",
              "      height: 32px;\n",
              "      padding: 0 0 0 0;\n",
              "      width: 32px;\n",
              "    }\n",
              "\n",
              "    .colab-df-convert:hover {\n",
              "      background-color: #E2EBFA;\n",
              "      box-shadow: 0px 1px 2px rgba(60, 64, 67, 0.3), 0px 1px 3px 1px rgba(60, 64, 67, 0.15);\n",
              "      fill: #174EA6;\n",
              "    }\n",
              "\n",
              "    [theme=dark] .colab-df-convert {\n",
              "      background-color: #3B4455;\n",
              "      fill: #D2E3FC;\n",
              "    }\n",
              "\n",
              "    [theme=dark] .colab-df-convert:hover {\n",
              "      background-color: #434B5C;\n",
              "      box-shadow: 0px 1px 3px 1px rgba(0, 0, 0, 0.15);\n",
              "      filter: drop-shadow(0px 1px 2px rgba(0, 0, 0, 0.3));\n",
              "      fill: #FFFFFF;\n",
              "    }\n",
              "  </style>\n",
              "\n",
              "      <script>\n",
              "        const buttonEl =\n",
              "          document.querySelector('#df-048da29d-8417-49a5-9d09-8c452b0adfb7 button.colab-df-convert');\n",
              "        buttonEl.style.display =\n",
              "          google.colab.kernel.accessAllowed ? 'block' : 'none';\n",
              "\n",
              "        async function convertToInteractive(key) {\n",
              "          const element = document.querySelector('#df-048da29d-8417-49a5-9d09-8c452b0adfb7');\n",
              "          const dataTable =\n",
              "            await google.colab.kernel.invokeFunction('convertToInteractive',\n",
              "                                                     [key], {});\n",
              "          if (!dataTable) return;\n",
              "\n",
              "          const docLinkHtml = 'Like what you see? Visit the ' +\n",
              "            '<a target=\"_blank\" href=https://colab.research.google.com/notebooks/data_table.ipynb>data table notebook</a>'\n",
              "            + ' to learn more about interactive tables.';\n",
              "          element.innerHTML = '';\n",
              "          dataTable['output_type'] = 'display_data';\n",
              "          await google.colab.output.renderOutput(dataTable, element);\n",
              "          const docLink = document.createElement('div');\n",
              "          docLink.innerHTML = docLinkHtml;\n",
              "          element.appendChild(docLink);\n",
              "        }\n",
              "      </script>\n",
              "    </div>\n",
              "  </div>\n",
              "  "
            ]
          },
          "metadata": {},
          "execution_count": 9
        }
      ],
      "source": [
        "df_close = dff[close_cols].copy()\n",
        "df_close.rename(columns={colname: colname.split()[0] for colname in df_close.columns}, inplace=True)\n",
        "df_close.head()"
      ]
    },
    {
      "cell_type": "code",
      "execution_count": 10,
      "metadata": {
        "id": "5ibv4FbOZhhX"
      },
      "outputs": [],
      "source": [
        "import numpy as np"
      ]
    },
    {
      "cell_type": "markdown",
      "metadata": {
        "id": "07Xc6nxRZhhY"
      },
      "source": [
        "For Loop"
      ]
    },
    {
      "cell_type": "code",
      "execution_count": 11,
      "metadata": {
        "id": "ILI_7QvcZhhZ"
      },
      "outputs": [],
      "source": [
        "iters = 100"
      ]
    },
    {
      "cell_type": "code",
      "execution_count": 22,
      "metadata": {
        "id": "xO0vGvRoZhhZ"
      },
      "outputs": [],
      "source": [
        "old_coeffs = np.ones(12) / 12.0"
      ]
    },
    {
      "cell_type": "code",
      "execution_count": 23,
      "metadata": {
        "colab": {
          "base_uri": "https://localhost:8080/"
        },
        "id": "jnZYkeeOZhha",
        "outputId": "6c27763f-65cb-406f-81b1-1d63f25f7448"
      },
      "outputs": [
        {
          "output_type": "execute_result",
          "data": {
            "text/plain": [
              "array([0.08333333, 0.08333333, 0.08333333, 0.08333333, 0.08333333,\n",
              "       0.08333333, 0.08333333, 0.08333333, 0.08333333, 0.08333333,\n",
              "       0.08333333, 0.08333333])"
            ]
          },
          "metadata": {},
          "execution_count": 23
        }
      ],
      "source": [
        "old_coeffs"
      ]
    },
    {
      "cell_type": "code",
      "source": [
        "portfolio_weights = []"
      ],
      "metadata": {
        "id": "4Qzb0pvDhMvA"
      },
      "execution_count": 24,
      "outputs": []
    },
    {
      "cell_type": "code",
      "execution_count": 25,
      "metadata": {
        "id": "q6bfDfEUZhha"
      },
      "outputs": [],
      "source": [
        "profits = []"
      ]
    },
    {
      "cell_type": "code",
      "source": [
        "#model = Model()"
      ],
      "metadata": {
        "id": "XwodW_vUkWBj"
      },
      "execution_count": 32,
      "outputs": []
    },
    {
      "cell_type": "code",
      "execution_count": 26,
      "metadata": {
        "colab": {
          "base_uri": "https://localhost:8080/"
        },
        "id": "ZtjesjYTZhha",
        "outputId": "393cec48-3eba-433a-939b-4ccfe2e53cc5"
      },
      "outputs": [
        {
          "output_type": "stream",
          "name": "stdout",
          "text": [
            "Iteration: 1\n",
            "1/1 [==============================] - 0s 401ms/step\n",
            "Profit = 0.27010103619763015\n",
            "Cumulative Profit = 0.27010103619763015\n",
            "---------------\n",
            "Iteration: 2\n",
            "1/1 [==============================] - 0s 494ms/step\n",
            "Profit = 0.43216419219970703\n",
            "Cumulative Profit = 0.7022652283973372\n",
            "---------------\n",
            "Iteration: 3\n",
            "1/1 [==============================] - 0s 360ms/step\n",
            "Profit = 0.9183597564697266\n",
            "Cumulative Profit = 1.6206249848670637\n",
            "---------------\n",
            "Iteration: 4\n",
            "1/1 [==============================] - 0s 365ms/step\n",
            "Profit = -0.8643300533294678\n",
            "Cumulative Profit = 0.756294931537596\n",
            "---------------\n",
            "Iteration: 5\n"
          ]
        },
        {
          "output_type": "stream",
          "name": "stderr",
          "text": [
            "WARNING:tensorflow:5 out of the last 5 calls to <function Model.make_predict_function.<locals>.predict_function at 0x7fe567db6ef0> triggered tf.function retracing. Tracing is expensive and the excessive number of tracings could be due to (1) creating @tf.function repeatedly in a loop, (2) passing tensors with different shapes, (3) passing Python objects instead of tensors. For (1), please define your @tf.function outside of the loop. For (2), @tf.function has reduce_retracing=True option that can avoid unnecessary retracing. For (3), please refer to https://www.tensorflow.org/guide/function#controlling_retracing and https://www.tensorflow.org/api_docs/python/tf/function for  more details.\n"
          ]
        },
        {
          "output_type": "stream",
          "name": "stdout",
          "text": [
            "1/1 [==============================] - 0s 351ms/step\n",
            "Profit = -0.3241310119628906\n",
            "Cumulative Profit = 0.43216391957470535\n",
            "---------------\n",
            "Iteration: 6\n"
          ]
        },
        {
          "output_type": "stream",
          "name": "stderr",
          "text": [
            "WARNING:tensorflow:6 out of the last 6 calls to <function Model.make_predict_function.<locals>.predict_function at 0x7fe5670a2b90> triggered tf.function retracing. Tracing is expensive and the excessive number of tracings could be due to (1) creating @tf.function repeatedly in a loop, (2) passing tensors with different shapes, (3) passing Python objects instead of tensors. For (1), please define your @tf.function outside of the loop. For (2), @tf.function has reduce_retracing=True option that can avoid unnecessary retracing. For (3), please refer to https://www.tensorflow.org/guide/function#controlling_retracing and https://www.tensorflow.org/api_docs/python/tf/function for  more details.\n"
          ]
        },
        {
          "output_type": "stream",
          "name": "stdout",
          "text": [
            "1/1 [==============================] - 0s 351ms/step\n",
            "Profit = 6.198883056640625e-06\n",
            "Cumulative Profit = 0.432170118457762\n",
            "---------------\n",
            "Iteration: 7\n",
            "1/1 [==============================] - 0s 344ms/step\n",
            "Profit = -1.0804266929626465\n",
            "Cumulative Profit = -0.6482565745048845\n",
            "---------------\n",
            "Iteration: 8\n",
            "1/1 [==============================] - 0s 349ms/step\n",
            "Profit = 0.4321727752685547\n",
            "Cumulative Profit = -0.2160837992363298\n",
            "---------------\n",
            "Iteration: 9\n",
            "1/1 [==============================] - 0s 341ms/step\n",
            "Profit = 0.8643455505371094\n",
            "Cumulative Profit = 0.6482617513007796\n",
            "---------------\n",
            "Iteration: 10\n",
            "1/1 [==============================] - 1s 502ms/step\n",
            "Profit = 0.7022552490234375\n",
            "Cumulative Profit = 1.350517000324217\n",
            "---------------\n",
            "Iteration: 11\n",
            "1/1 [==============================] - 0s 345ms/step\n",
            "Profit = -0.1080470085144043\n",
            "Cumulative Profit = 1.2424699918098128\n",
            "---------------\n",
            "Iteration: 12\n",
            "1/1 [==============================] - 0s 358ms/step\n",
            "Profit = -0.9183597564697266\n",
            "Cumulative Profit = 0.3241102353400862\n",
            "---------------\n",
            "Iteration: 13\n",
            "1/1 [==============================] - 0s 476ms/step\n",
            "Profit = 1.9073486328125e-06\n",
            "Cumulative Profit = 0.324112142688719\n",
            "---------------\n",
            "Iteration: 14\n",
            "1/1 [==============================] - 1s 999ms/step\n",
            "Profit = -1.674637794494629\n",
            "Cumulative Profit = -1.3505256518059099\n",
            "---------------\n",
            "Iteration: 15\n",
            "1/1 [==============================] - 0s 371ms/step\n",
            "Profit = 0.05401611328125\n",
            "Cumulative Profit = -1.2965095385246599\n",
            "---------------\n",
            "Iteration: 16\n",
            "1/1 [==============================] - 0s 380ms/step\n",
            "Profit = 0.2701072692871094\n",
            "Cumulative Profit = -1.0264022692375505\n",
            "---------------\n",
            "Iteration: 17\n",
            "1/1 [==============================] - 0s 354ms/step\n",
            "Profit = -0.8103294372558594\n",
            "Cumulative Profit = -1.8367317064934099\n",
            "---------------\n",
            "Iteration: 18\n",
            "1/1 [==============================] - 1s 1s/step\n",
            "Profit = -1.4045257568359375\n",
            "Cumulative Profit = -3.2412574633293474\n",
            "---------------\n",
            "Iteration: 19\n",
            "1/1 [==============================] - 0s 354ms/step\n",
            "Profit = -3.0791897773742676\n",
            "Cumulative Profit = -6.320447240703615\n",
            "---------------\n",
            "Iteration: 20\n",
            "1/1 [==============================] - 0s 348ms/step\n",
            "Profit = 0.21608901023864746\n",
            "Cumulative Profit = -6.1043582304649675\n",
            "---------------\n",
            "Iteration: 21\n",
            "1/1 [==============================] - 1s 534ms/step\n",
            "Profit = 0.6482362747192383\n",
            "Cumulative Profit = -5.456121955745729\n",
            "---------------\n",
            "Iteration: 22\n",
            "1/1 [==============================] - 0s 339ms/step\n",
            "Profit = -0.5402126312255859\n",
            "Cumulative Profit = -5.996334586971315\n",
            "---------------\n",
            "Iteration: 23\n",
            "1/1 [==============================] - 0s 353ms/step\n",
            "Profit = 1.6206426620483398\n",
            "Cumulative Profit = -4.375691924922975\n",
            "---------------\n",
            "Iteration: 24\n",
            "1/1 [==============================] - 0s 363ms/step\n",
            "Profit = 1.2424736022949219\n",
            "Cumulative Profit = -3.1332183226280534\n",
            "---------------\n",
            "Iteration: 25\n",
            "1/1 [==============================] - 0s 356ms/step\n",
            "Profit = -0.5942211151123047\n",
            "Cumulative Profit = -3.727439437740358\n",
            "---------------\n",
            "Iteration: 26\n",
            "1/1 [==============================] - 0s 348ms/step\n",
            "Profit = -0.64825439453125\n",
            "Cumulative Profit = -4.375693832271608\n",
            "---------------\n",
            "Iteration: 27\n",
            "1/1 [==============================] - 0s 363ms/step\n",
            "Profit = -0.8103256225585938\n",
            "Cumulative Profit = -5.186019454830202\n",
            "---------------\n",
            "Iteration: 28\n",
            "1/1 [==============================] - 0s 337ms/step\n",
            "Profit = 1.350534439086914\n",
            "Cumulative Profit = -3.835485015743288\n",
            "---------------\n",
            "Iteration: 29\n",
            "1/1 [==============================] - 1s 517ms/step\n",
            "Profit = -0.21608543395996094\n",
            "Cumulative Profit = -4.051570449703249\n",
            "---------------\n",
            "Iteration: 30\n",
            "1/1 [==============================] - 1s 859ms/step\n",
            "Profit = -0.8103094100952148\n",
            "Cumulative Profit = -4.861879859798464\n",
            "---------------\n",
            "Iteration: 31\n",
            "1/1 [==============================] - 0s 355ms/step\n",
            "Profit = -0.8643283843994141\n",
            "Cumulative Profit = -5.726208244197878\n",
            "---------------\n",
            "Iteration: 32\n",
            "1/1 [==============================] - 0s 346ms/step\n",
            "Profit = -0.7562828063964844\n",
            "Cumulative Profit = -6.482491050594362\n",
            "---------------\n",
            "Iteration: 33\n",
            "1/1 [==============================] - 0s 357ms/step\n",
            "Profit = -0.3781585693359375\n",
            "Cumulative Profit = -6.8606496199302995\n",
            "---------------\n",
            "Iteration: 34\n",
            "1/1 [==============================] - 0s 338ms/step\n",
            "Profit = 1.4045467376708984\n",
            "Cumulative Profit = -5.456102882259401\n",
            "---------------\n",
            "Iteration: 35\n",
            "1/1 [==============================] - 0s 334ms/step\n",
            "Profit = 0.9183425903320312\n",
            "Cumulative Profit = -4.53776029192737\n",
            "---------------\n",
            "Iteration: 36\n",
            "1/1 [==============================] - 0s 337ms/step\n",
            "Profit = 0.9723796844482422\n",
            "Cumulative Profit = -3.5653806074791277\n",
            "---------------\n",
            "Iteration: 37\n",
            "1/1 [==============================] - 1s 504ms/step\n",
            "Profit = -1.0263962745666504\n",
            "Cumulative Profit = -4.591776882045778\n",
            "---------------\n",
            "Iteration: 38\n",
            "1/1 [==============================] - 0s 350ms/step\n",
            "Profit = 1.1884641647338867\n",
            "Cumulative Profit = -3.4033127173118913\n",
            "---------------\n",
            "Iteration: 39\n",
            "1/1 [==============================] - 0s 372ms/step\n",
            "Profit = 1.7826738357543945\n",
            "Cumulative Profit = -1.6206388815574968\n",
            "---------------\n",
            "Iteration: 40\n",
            "1/1 [==============================] - 0s 367ms/step\n",
            "Profit = 0.6482639312744141\n",
            "Cumulative Profit = -0.9723749502830827\n",
            "---------------\n",
            "Iteration: 41\n",
            "1/1 [==============================] - 0s 362ms/step\n",
            "Profit = -0.05401611328125\n",
            "Cumulative Profit = -1.0263910635643327\n",
            "---------------\n",
            "Iteration: 42\n",
            "1/1 [==============================] - 0s 344ms/step\n",
            "Profit = 0.21607589721679688\n",
            "Cumulative Profit = -0.8103151663475359\n",
            "---------------\n",
            "Iteration: 43\n",
            "1/1 [==============================] - 0s 348ms/step\n",
            "Profit = -2.214862823486328\n",
            "Cumulative Profit = -3.025177989833864\n",
            "---------------\n",
            "Iteration: 44\n",
            "1/1 [==============================] - 0s 340ms/step\n",
            "Profit = 0.10804462432861328\n",
            "Cumulative Profit = -2.9171333655052507\n",
            "---------------\n",
            "Iteration: 45\n",
            "1/1 [==============================] - 1s 505ms/step\n",
            "Profit = -2.052783966064453\n",
            "Cumulative Profit = -4.969917331569704\n",
            "---------------\n",
            "Iteration: 46\n",
            "1/1 [==============================] - 0s 333ms/step\n",
            "Profit = -1.512594223022461\n",
            "Cumulative Profit = -6.482511554592165\n",
            "---------------\n",
            "Iteration: 47\n",
            "1/1 [==============================] - 0s 357ms/step\n",
            "Profit = 0.3781552314758301\n",
            "Cumulative Profit = -6.104356323116335\n",
            "---------------\n",
            "Iteration: 48\n",
            "1/1 [==============================] - 0s 341ms/step\n",
            "Profit = -0.4321746826171875\n",
            "Cumulative Profit = -6.536531005733522\n",
            "---------------\n",
            "Iteration: 49\n",
            "1/1 [==============================] - 0s 338ms/step\n",
            "Profit = 0.27010345458984375\n",
            "Cumulative Profit = -6.266427551143678\n",
            "---------------\n",
            "Iteration: 50\n",
            "1/1 [==============================] - 0s 352ms/step\n",
            "Profit = 0.05403327941894531\n",
            "Cumulative Profit = -6.212394271724733\n",
            "---------------\n",
            "Iteration: 51\n",
            "1/1 [==============================] - 0s 346ms/step\n",
            "Profit = -1.026407241821289\n",
            "Cumulative Profit = -7.238801513546022\n",
            "---------------\n",
            "Iteration: 52\n",
            "1/1 [==============================] - 0s 344ms/step\n",
            "Profit = 0.4861917495727539\n",
            "Cumulative Profit = -6.752609763973268\n",
            "---------------\n",
            "Iteration: 53\n",
            "1/1 [==============================] - 0s 350ms/step\n",
            "Profit = -1.026392936706543\n",
            "Cumulative Profit = -7.779002700679811\n",
            "---------------\n",
            "Iteration: 54\n",
            "1/1 [==============================] - 0s 345ms/step\n",
            "Profit = 0.3781452178955078\n",
            "Cumulative Profit = -7.400857482784303\n",
            "---------------\n",
            "Iteration: 55\n",
            "1/1 [==============================] - 0s 358ms/step\n",
            "Profit = -0.5402107238769531\n",
            "Cumulative Profit = -7.941068206661257\n",
            "---------------\n",
            "Iteration: 56\n",
            "1/1 [==============================] - 1s 543ms/step\n",
            "Profit = 0.4321746826171875\n",
            "Cumulative Profit = -7.508893524044069\n",
            "---------------\n",
            "Iteration: 57\n",
            "1/1 [==============================] - 0s 363ms/step\n",
            "Profit = -0.4861907958984375\n",
            "Cumulative Profit = -7.995084319942507\n",
            "---------------\n",
            "Iteration: 58\n",
            "1/1 [==============================] - 0s 367ms/step\n",
            "Profit = -0.810333251953125\n",
            "Cumulative Profit = -8.805417571895632\n",
            "---------------\n",
            "Iteration: 59\n",
            "1/1 [==============================] - 0s 368ms/step\n",
            "Profit = 0.5402259826660156\n",
            "Cumulative Profit = -8.265191589229616\n",
            "---------------\n",
            "Iteration: 60\n",
            "1/1 [==============================] - 0s 364ms/step\n",
            "Profit = 0.5402078628540039\n",
            "Cumulative Profit = -7.724983726375612\n",
            "---------------\n",
            "Iteration: 61\n",
            "1/1 [==============================] - 0s 333ms/step\n",
            "Profit = -1.8907241821289062\n",
            "Cumulative Profit = -9.615707908504518\n",
            "---------------\n",
            "Iteration: 62\n",
            "1/1 [==============================] - 1s 955ms/step\n",
            "Profit = -0.2700958251953125\n",
            "Cumulative Profit = -9.88580373369983\n",
            "---------------\n",
            "Iteration: 63\n",
            "1/1 [==============================] - 0s 362ms/step\n",
            "Profit = -0.5402145385742188\n",
            "Cumulative Profit = -10.42601827227405\n",
            "---------------\n",
            "Iteration: 64\n",
            "1/1 [==============================] - 1s 509ms/step\n",
            "Profit = -1.7826786041259766\n",
            "Cumulative Profit = -12.208696876400026\n",
            "---------------\n",
            "Iteration: 65\n",
            "1/1 [==============================] - 0s 335ms/step\n",
            "Profit = 4.051542282104492\n",
            "Cumulative Profit = -8.157154594295534\n",
            "---------------\n",
            "Iteration: 66\n",
            "1/1 [==============================] - 0s 341ms/step\n",
            "Profit = -1.1344280242919922\n",
            "Cumulative Profit = -9.291582618587526\n",
            "---------------\n",
            "Iteration: 67\n",
            "1/1 [==============================] - 0s 359ms/step\n",
            "Profit = 1.8367042541503906\n",
            "Cumulative Profit = -7.4548783644371355\n",
            "---------------\n",
            "Iteration: 68\n",
            "1/1 [==============================] - 0s 359ms/step\n",
            "Profit = -1.6746444702148438\n",
            "Cumulative Profit = -9.12952283465198\n",
            "---------------\n",
            "Iteration: 69\n",
            "1/1 [==============================] - 0s 340ms/step\n",
            "Profit = -0.2700936794281006\n",
            "Cumulative Profit = -9.39961651408008\n",
            "---------------\n",
            "Iteration: 70\n",
            "1/1 [==============================] - 0s 343ms/step\n",
            "Profit = 1.5125732421875\n",
            "Cumulative Profit = -7.88704327189258\n",
            "---------------\n",
            "Iteration: 71\n",
            "1/1 [==============================] - 0s 358ms/step\n",
            "Profit = 0.5942301750183105\n",
            "Cumulative Profit = -7.292813096874269\n",
            "---------------\n",
            "Iteration: 72\n",
            "1/1 [==============================] - 1s 502ms/step\n",
            "Profit = -1.5125837326049805\n",
            "Cumulative Profit = -8.80539682947925\n",
            "---------------\n",
            "Iteration: 73\n",
            "1/1 [==============================] - 0s 357ms/step\n",
            "Profit = -0.10803890228271484\n",
            "Cumulative Profit = -8.913435731761965\n",
            "---------------\n",
            "Iteration: 74\n",
            "1/1 [==============================] - 0s 347ms/step\n",
            "Profit = -0.16205596923828125\n",
            "Cumulative Profit = -9.075491701000246\n",
            "---------------\n",
            "Iteration: 75\n",
            "1/1 [==============================] - 0s 354ms/step\n",
            "Profit = 0.9723834991455078\n",
            "Cumulative Profit = -8.103108201854738\n",
            "---------------\n",
            "Iteration: 76\n",
            "1/1 [==============================] - 0s 354ms/step\n",
            "Profit = -0.43218231201171875\n",
            "Cumulative Profit = -8.535290513866457\n",
            "---------------\n",
            "Iteration: 77\n",
            "1/1 [==============================] - 0s 367ms/step\n",
            "Profit = -0.8643302917480469\n",
            "Cumulative Profit = -9.399620805614504\n",
            "---------------\n",
            "Iteration: 78\n",
            "1/1 [==============================] - 0s 366ms/step\n",
            "Profit = -0.9183540344238281\n",
            "Cumulative Profit = -10.317974840038332\n",
            "---------------\n",
            "Iteration: 79\n",
            "1/1 [==============================] - 0s 393ms/step\n",
            "Profit = 0.2700977325439453\n",
            "Cumulative Profit = -10.047877107494386\n",
            "---------------\n",
            "Iteration: 80\n",
            "1/1 [==============================] - 1s 514ms/step\n",
            "Profit = -0.8103065490722656\n",
            "Cumulative Profit = -10.858183656566652\n",
            "---------------\n",
            "Iteration: 81\n",
            "1/1 [==============================] - 0s 347ms/step\n",
            "Profit = -0.9183616638183594\n",
            "Cumulative Profit = -11.776545320385011\n",
            "---------------\n",
            "Iteration: 82\n",
            "1/1 [==============================] - 0s 344ms/step\n",
            "Profit = -0.432159423828125\n",
            "Cumulative Profit = -12.208704744213136\n",
            "---------------\n",
            "Iteration: 83\n",
            "1/1 [==============================] - 0s 359ms/step\n",
            "Profit = 2.701030731201172\n",
            "Cumulative Profit = -9.507674013011965\n",
            "---------------\n",
            "Iteration: 84\n",
            "1/1 [==============================] - 0s 372ms/step\n",
            "Profit = -1.1344337463378906\n",
            "Cumulative Profit = -10.642107759349855\n",
            "---------------\n",
            "Iteration: 85\n",
            "1/1 [==============================] - 0s 350ms/step\n",
            "Profit = 1.8907279968261719\n",
            "Cumulative Profit = -8.751379762523683\n",
            "---------------\n",
            "Iteration: 86\n",
            "1/1 [==============================] - 0s 332ms/step\n",
            "Profit = 0.7563009262084961\n",
            "Cumulative Profit = -7.995078836315187\n",
            "---------------\n",
            "Iteration: 87\n",
            "1/1 [==============================] - 0s 361ms/step\n",
            "Profit = 0.5942187309265137\n",
            "Cumulative Profit = -7.400860105388674\n",
            "---------------\n",
            "Iteration: 88\n",
            "1/1 [==============================] - 1s 506ms/step\n",
            "Profit = -1.188455581665039\n",
            "Cumulative Profit = -8.589315687053713\n",
            "---------------\n",
            "Iteration: 89\n",
            "1/1 [==============================] - 0s 345ms/step\n",
            "Profit = -0.16205215454101562\n",
            "Cumulative Profit = -8.751367841594728\n",
            "---------------\n",
            "Iteration: 90\n",
            "1/1 [==============================] - 0s 338ms/step\n",
            "Profit = -0.7022757530212402\n",
            "Cumulative Profit = -9.453643594615968\n",
            "---------------\n",
            "Iteration: 91\n",
            "1/1 [==============================] - 0s 362ms/step\n",
            "Profit = 0.8643245697021484\n",
            "Cumulative Profit = -8.58931902491382\n",
            "---------------\n",
            "Iteration: 92\n",
            "1/1 [==============================] - 0s 354ms/step\n",
            "Profit = 0.1080484390258789\n",
            "Cumulative Profit = -8.481270585887941\n",
            "---------------\n",
            "Iteration: 93\n",
            "1/1 [==============================] - 0s 345ms/step\n",
            "Profit = 0.5401897430419922\n",
            "Cumulative Profit = -7.941080842845949\n",
            "---------------\n",
            "Iteration: 94\n",
            "1/1 [==============================] - 0s 363ms/step\n",
            "Profit = 0.27011680603027344\n",
            "Cumulative Profit = -7.6709640368156755\n",
            "---------------\n",
            "Iteration: 95\n",
            "1/1 [==============================] - 0s 380ms/step\n",
            "Profit = -0.48619842529296875\n",
            "Cumulative Profit = -8.157162462108644\n",
            "---------------\n",
            "Iteration: 96\n",
            "1/1 [==============================] - 1s 530ms/step\n",
            "Profit = -0.3781394958496094\n",
            "Cumulative Profit = -8.535301957958254\n",
            "---------------\n",
            "Iteration: 97\n",
            "1/1 [==============================] - 0s 368ms/step\n",
            "Profit = 1.1884536743164062\n",
            "Cumulative Profit = -7.346848283641847\n",
            "---------------\n",
            "Iteration: 98\n",
            "1/1 [==============================] - 0s 360ms/step\n",
            "Profit = 0.8103179931640625\n",
            "Cumulative Profit = -6.536530290477785\n",
            "---------------\n",
            "Iteration: 99\n",
            "1/1 [==============================] - 0s 416ms/step\n",
            "Profit = -0.37813758850097656\n",
            "Cumulative Profit = -6.9146678789787615\n",
            "---------------\n",
            "Iteration: 100\n",
            "1/1 [==============================] - 0s 367ms/step\n",
            "Profit = 0.7022705078125\n",
            "Cumulative Profit = -6.2123973711662615\n",
            "---------------\n"
          ]
        }
      ],
      "source": [
        "for i in range(iters):\n",
        "    print(f\"Iteration: {i+1}\")\n",
        "    model = Model()\n",
        "    next_index = i-iters\n",
        "    coeffs = model.get_allocations(df_close[i:next_index])\n",
        "    hourly_profit = np.sum(( np.multiply(df_close.iloc[next_index-1].to_numpy()[0], old_coeffs) - np.multiply(df_close.iloc[next_index].to_numpy()[0], coeffs)))\n",
        "    print(f\"Profit = {hourly_profit}\")\n",
        "    profits.append(hourly_profit)\n",
        "    print(f\"Cumulative Profit = {sum(profits)}\")\n",
        "    temp_coeffs = np.append(coeffs, 0) # add 0 to cash asset\n",
        "    portfolio_weights.append(temp_coeffs)\n",
        "    old_coeffs = coeffs\n",
        "    print(\"---------------\")"
      ]
    },
    {
      "cell_type": "code",
      "execution_count": 27,
      "metadata": {
        "colab": {
          "base_uri": "https://localhost:8080/"
        },
        "id": "HArCC6ylZhhb",
        "outputId": "55a447fb-a19f-4ff4-cd7f-d6650102bbf8"
      },
      "outputs": [
        {
          "output_type": "execute_result",
          "data": {
            "text/plain": [
              "[0.27010103619763015,\n",
              " 0.4321642,\n",
              " 0.91835976,\n",
              " -0.86433005,\n",
              " -0.324131,\n",
              " 6.198883e-06,\n",
              " -1.0804267,\n",
              " 0.43217278,\n",
              " 0.86434555,\n",
              " 0.70225525,\n",
              " -0.10804701,\n",
              " -0.91835976,\n",
              " 1.9073486e-06,\n",
              " -1.6746378,\n",
              " 0.054016113,\n",
              " 0.27010727,\n",
              " -0.81032944,\n",
              " -1.4045258,\n",
              " -3.0791898,\n",
              " 0.21608901,\n",
              " 0.6482363,\n",
              " -0.54021263,\n",
              " 1.6206427,\n",
              " 1.2424736,\n",
              " -0.5942211,\n",
              " -0.6482544,\n",
              " -0.8103256,\n",
              " 1.3505344,\n",
              " -0.21608543,\n",
              " -0.8103094,\n",
              " -0.8643284,\n",
              " -0.7562828,\n",
              " -0.37815857,\n",
              " 1.4045467,\n",
              " 0.9183426,\n",
              " 0.9723797,\n",
              " -1.0263963,\n",
              " 1.1884642,\n",
              " 1.7826738,\n",
              " 0.64826393,\n",
              " -0.054016113,\n",
              " 0.2160759,\n",
              " -2.2148628,\n",
              " 0.108044624,\n",
              " -2.052784,\n",
              " -1.5125942,\n",
              " 0.37815523,\n",
              " -0.43217468,\n",
              " 0.27010345,\n",
              " 0.05403328,\n",
              " -1.0264072,\n",
              " 0.48619175,\n",
              " -1.0263929,\n",
              " 0.37814522,\n",
              " -0.5402107,\n",
              " 0.43217468,\n",
              " -0.4861908,\n",
              " -0.81033325,\n",
              " 0.540226,\n",
              " 0.54020786,\n",
              " -1.8907242,\n",
              " -0.27009583,\n",
              " -0.54021454,\n",
              " -1.7826786,\n",
              " 4.0515423,\n",
              " -1.134428,\n",
              " 1.8367043,\n",
              " -1.6746445,\n",
              " -0.27009368,\n",
              " 1.5125732,\n",
              " 0.5942302,\n",
              " -1.5125837,\n",
              " -0.1080389,\n",
              " -0.16205597,\n",
              " 0.9723835,\n",
              " -0.4321823,\n",
              " -0.8643303,\n",
              " -0.91835403,\n",
              " 0.27009773,\n",
              " -0.81030655,\n",
              " -0.91836166,\n",
              " -0.43215942,\n",
              " 2.7010307,\n",
              " -1.1344337,\n",
              " 1.890728,\n",
              " 0.7563009,\n",
              " 0.59421873,\n",
              " -1.1884556,\n",
              " -0.16205215,\n",
              " -0.70227575,\n",
              " 0.86432457,\n",
              " 0.10804844,\n",
              " 0.54018974,\n",
              " 0.2701168,\n",
              " -0.48619843,\n",
              " -0.3781395,\n",
              " 1.1884537,\n",
              " 0.810318,\n",
              " -0.3781376,\n",
              " 0.7022705]"
            ]
          },
          "metadata": {},
          "execution_count": 27
        }
      ],
      "source": [
        "profits"
      ]
    },
    {
      "cell_type": "code",
      "execution_count": 28,
      "metadata": {
        "colab": {
          "base_uri": "https://localhost:8080/"
        },
        "id": "PCgMNBGgZhhb",
        "outputId": "b2256d88-638b-4146-c62f-b927477e6be9"
      },
      "outputs": [
        {
          "output_type": "execute_result",
          "data": {
            "text/plain": [
              "-6.2123973711662615"
            ]
          },
          "metadata": {},
          "execution_count": 28
        }
      ],
      "source": [
        "sum(profits)"
      ]
    },
    {
      "cell_type": "code",
      "execution_count": 29,
      "metadata": {
        "id": "Au-c1Sp3Zhhb"
      },
      "outputs": [],
      "source": [
        "import matplotlib.pyplot as plt"
      ]
    },
    {
      "cell_type": "code",
      "source": [
        "plt.plot(profits)"
      ],
      "metadata": {
        "colab": {
          "base_uri": "https://localhost:8080/",
          "height": 447
        },
        "id": "uj4t3F_JdMm_",
        "outputId": "be90f0d2-5ace-4290-a655-c801287ff9df"
      },
      "execution_count": 30,
      "outputs": [
        {
          "output_type": "execute_result",
          "data": {
            "text/plain": [
              "[<matplotlib.lines.Line2D at 0x7fe567fa44f0>]"
            ]
          },
          "metadata": {},
          "execution_count": 30
        },
        {
          "output_type": "display_data",
          "data": {
            "text/plain": [
              "<Figure size 640x480 with 1 Axes>"
            ],
            "image/png": "[encoded data removed]"
          },
          "metadata": {}
        }
      ]
    },
    {
      "cell_type": "code",
      "source": [
        "plt.plot(np.cumsum(profits))"
      ],
      "metadata": {
        "colab": {
          "base_uri": "https://localhost:8080/",
          "height": 447
        },
        "id": "AQ0AJSVsdO2M",
        "outputId": "0d218f50-2d48-41cb-c313-d67a3db9e20e"
      },
      "execution_count": 31,
      "outputs": [
        {
          "output_type": "execute_result",
          "data": {
            "text/plain": [
              "[<matplotlib.lines.Line2D at 0x7fe567b86b30>]"
            ]
          },
          "metadata": {},
          "execution_count": 31
        },
        {
          "output_type": "display_data",
          "data": {
            "text/plain": [
              "<Figure size 640x480 with 1 Axes>"
            ],
            "image/png": "[encoded data removed]"
          },
          "metadata": {}
        }
      ]
    },
    {
      "cell_type": "code",
      "source": [],
      "metadata": {
        "id": "8G8SAVQmdjKN"
      },
      "execution_count": null,
      "outputs": []
    }
  ],
  "metadata": {
    "kernelspec": {
      "display_name": "Python 3",
      "name": "python3"
    },
    "language_info": {
      "codemirror_mode": {
        "name": "ipython",
        "version": 3
      },
      "file_extension": ".py",
      "mimetype": "text/x-python",
      "name": "python",
      "nbconvert_exporter": "python",
      "pygments_lexer": "ipython3",
      "version": "3.11.0"
    },
    "orig_nbformat": 4,
    "colab": {
      "provenance": [],
      "gpuType": "T4"
    },
    "accelerator": "GPU"
  },
  "nbformat": 4,
  "nbformat_minor": 0
}