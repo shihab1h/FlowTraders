{
  "cells": [
    {
      "cell_type": "code",
      "execution_count": 14,
      "metadata": {
        "id": "Z9-qKj5QZhhT"
      },
      "outputs": [],
      "source": [
        "# Based on Zhang/Oxford paper and github/shilewenuw implementation"
      ]
    },
    {
      "cell_type": "code",
      "execution_count": 15,
      "metadata": {
        "id": "-m4oSVRgZhhV"
      },
      "outputs": [],
      "source": [
        "from Model import Model\n",
        "import pandas as pd"
      ]
    },
    {
      "cell_type": "code",
      "execution_count": 16,
      "metadata": {
        "id": "YUnCA-qxZhhV"
      },
      "outputs": [],
      "source": [
        "#dfr = pd.read_csv(\"new_returns.csv\") # returns\n",
        "dff = pd.read_csv(\"new_features.csv\") # features"
      ]
    },
    {
      "cell_type": "code",
      "execution_count": 17,
      "metadata": {
        "colab": {
          "base_uri": "https://localhost:8080/"
        },
        "id": "DvlqJ5gHZhhW",
        "outputId": "c3fc0d70-25fd-4806-fd31-eb721ee85925"
      },
      "outputs": [
        {
          "output_type": "execute_result",
          "data": {
            "text/plain": [
              "(9566, 312)"
            ]
          },
          "metadata": {},
          "execution_count": 17
        }
      ],
      "source": [
        "dff.shape"
      ]
    },
    {
      "cell_type": "code",
      "execution_count": 18,
      "metadata": {
        "colab": {
          "base_uri": "https://localhost:8080/"
        },
        "id": "s7lhfJleZhhX",
        "outputId": "15a5c35c-fddc-4556-a8ee-6d70d56042f1"
      },
      "outputs": [
        {
          "output_type": "execute_result",
          "data": {
            "text/plain": [
              "['AdM close',\n",
              " 'AL close',\n",
              " 'A close',\n",
              " 'GO close',\n",
              " 'JS close',\n",
              " 'KvW close',\n",
              " 'KA close',\n",
              " 'SA close',\n",
              " 'S close',\n",
              " 'Ve close',\n",
              " 'Vi close',\n",
              " 'Z close']"
            ]
          },
          "metadata": {},
          "execution_count": 18
        }
      ],
      "source": [
        "close_cols = [colname for colname in dff.columns if colname.split()[1] == \"close\"]\n",
        "close_cols"
      ]
    },
    {
      "cell_type": "code",
      "execution_count": 19,
      "metadata": {
        "colab": {
          "base_uri": "https://localhost:8080/",
          "height": 250
        },
        "id": "b60--ZioZhhX",
        "outputId": "4fbc5459-5eb1-48f2-a74f-913029912909"
      },
      "outputs": [
        {
          "output_type": "execute_result",
          "data": {
            "text/plain": [
              "          AdM           AL            A          GO         JS        KvW  \\\n",
              "0  229.912597  1048.195089  5258.509097  785.749481  69.970392  21.790732   \n",
              "1  222.457725  1026.394270  5125.827632  767.167567  68.744350  20.976506   \n",
              "2  215.705123  1025.809013  5080.297423  758.672978  69.116046  21.017217   \n",
              "3  219.054413  1035.758381  5120.078868  763.318457  69.215905  21.159707   \n",
              "4  213.922436  1022.882729  5066.500391  753.363860  68.486382  20.966328   \n",
              "\n",
              "            KA           SA          S         Ve           Vi           Z  \n",
              "0  3065.433564  6791.196084  30.613892  61.681587  3877.559631  521.150292  \n",
              "1  3004.030094  6612.089249  29.557249  60.201578  3843.123472  499.684147  \n",
              "2  2963.956251  6939.832461  30.060412  60.136283  3805.161980  499.684147  \n",
              "3  2969.127069  6837.273361  30.146668  60.223342  3811.257294  492.358399  \n",
              "4  2947.366541  6743.632443  30.132292  59.374513  3777.989667  478.388368  "
            ],
            "text/html": [
              "\n",
              "  <div id=\"df-0008ee15-1df8-4b02-92d9-77c1843f6d7b\">\n",
              "    <div class=\"colab-df-container\">\n",
              "      <div>\n",
              "<style scoped>\n",
              "    .dataframe tbody tr th:only-of-type {\n",
              "        vertical-align: middle;\n",
              "    }\n",
              "\n",
              "    .dataframe tbody tr th {\n",
              "        vertical-align: top;\n",
              "    }\n",
              "\n",
              "    .dataframe thead th {\n",
              "        text-align: right;\n",
              "    }\n",
              "</style>\n",
              "<table border=\"1\" class=\"dataframe\">\n",
              "  <thead>\n",
              "    <tr style=\"text-align: right;\">\n",
              "      <th></th>\n",
              "      <th>AdM</th>\n",
              "      <th>AL</th>\n",
              "      <th>A</th>\n",
              "      <th>GO</th>\n",
              "      <th>JS</th>\n",
              "      <th>KvW</th>\n",
              "      <th>KA</th>\n",
              "      <th>SA</th>\n",
              "      <th>S</th>\n",
              "      <th>Ve</th>\n",
              "      <th>Vi</th>\n",
              "      <th>Z</th>\n",
              "    </tr>\n",
              "  </thead>\n",
              "  <tbody>\n",
              "    <tr>\n",
              "      <th>0</th>\n",
              "      <td>229.912597</td>\n",
              "      <td>1048.195089</td>\n",
              "      <td>5258.509097</td>\n",
              "      <td>785.749481</td>\n",
              "      <td>69.970392</td>\n",
              "      <td>21.790732</td>\n",
              "      <td>3065.433564</td>\n",
              "      <td>6791.196084</td>\n",
              "      <td>30.613892</td>\n",
              "      <td>61.681587</td>\n",
              "      <td>3877.559631</td>\n",
              "      <td>521.150292</td>\n",
              "    </tr>\n",
              "    <tr>\n",
              "      <th>1</th>\n",
              "      <td>222.457725</td>\n",
              "      <td>1026.394270</td>\n",
              "      <td>5125.827632</td>\n",
              "      <td>767.167567</td>\n",
              "      <td>68.744350</td>\n",
              "      <td>20.976506</td>\n",
              "      <td>3004.030094</td>\n",
              "      <td>6612.089249</td>\n",
              "      <td>29.557249</td>\n",
              "      <td>60.201578</td>\n",
              "      <td>3843.123472</td>\n",
              "      <td>499.684147</td>\n",
              "    </tr>\n",
              "    <tr>\n",
              "      <th>2</th>\n",
              "      <td>215.705123</td>\n",
              "      <td>1025.809013</td>\n",
              "      <td>5080.297423</td>\n",
              "      <td>758.672978</td>\n",
              "      <td>69.116046</td>\n",
              "      <td>21.017217</td>\n",
              "      <td>2963.956251</td>\n",
              "      <td>6939.832461</td>\n",
              "      <td>30.060412</td>\n",
              "      <td>60.136283</td>\n",
              "      <td>3805.161980</td>\n",
              "      <td>499.684147</td>\n",
              "    </tr>\n",
              "    <tr>\n",
              "      <th>3</th>\n",
              "      <td>219.054413</td>\n",
              "      <td>1035.758381</td>\n",
              "      <td>5120.078868</td>\n",
              "      <td>763.318457</td>\n",
              "      <td>69.215905</td>\n",
              "      <td>21.159707</td>\n",
              "      <td>2969.127069</td>\n",
              "      <td>6837.273361</td>\n",
              "      <td>30.146668</td>\n",
              "      <td>60.223342</td>\n",
              "      <td>3811.257294</td>\n",
              "      <td>492.358399</td>\n",
              "    </tr>\n",
              "    <tr>\n",
              "      <th>4</th>\n",
              "      <td>213.922436</td>\n",
              "      <td>1022.882729</td>\n",
              "      <td>5066.500391</td>\n",
              "      <td>753.363860</td>\n",
              "      <td>68.486382</td>\n",
              "      <td>20.966328</td>\n",
              "      <td>2947.366541</td>\n",
              "      <td>6743.632443</td>\n",
              "      <td>30.132292</td>\n",
              "      <td>59.374513</td>\n",
              "      <td>3777.989667</td>\n",
              "      <td>478.388368</td>\n",
              "    </tr>\n",
              "  </tbody>\n",
              "</table>\n",
              "</div>\n",
              "      <button class=\"colab-df-convert\" onclick=\"convertToInteractive('df-0008ee15-1df8-4b02-92d9-77c1843f6d7b')\"\n",
              "              title=\"Convert this dataframe to an interactive table.\"\n",
              "              style=\"display:none;\">\n",
              "        \n",
              "  <svg xmlns=\"http://www.w3.org/2000/svg\" height=\"24px\"viewBox=\"0 0 24 24\"\n",
              "       width=\"24px\">\n",
              "    <path d=\"M0 0h24v24H0V0z\" fill=\"none\"/>\n",
              "    <path d=\"M18.56 5.44l.94 2.06.94-2.06 2.06-.94-2.06-.94-.94-2.06-.94 2.06-2.06.94zm-11 1L8.5 8.5l.94-2.06 2.06-.94-2.06-.94L8.5 2.5l-.94 2.06-2.06.94zm10 10l.94 2.06.94-2.06 2.06-.94-2.06-.94-.94-2.06-.94 2.06-2.06.94z\"/><path d=\"M17.41 7.96l-1.37-1.37c-.4-.4-.92-.59-1.43-.59-.52 0-1.04.2-1.43.59L10.3 9.45l-7.72 7.72c-.78.78-.78 2.05 0 2.83L4 21.41c.39.39.9.59 1.41.59.51 0 1.02-.2 1.41-.59l7.78-7.78 2.81-2.81c.8-.78.8-2.07 0-2.86zM5.41 20L4 18.59l7.72-7.72 1.47 1.35L5.41 20z\"/>\n",
              "  </svg>\n",
              "      </button>\n",
              "      \n",
              "  <style>\n",
              "    .colab-df-container {\n",
              "      display:flex;\n",
              "      flex-wrap:wrap;\n",
              "      gap: 12px;\n",
              "    }\n",
              "\n",
              "    .colab-df-convert {\n",
              "      background-color: #E8F0FE;\n",
              "      border: none;\n",
              "      border-radius: 50%;\n",
              "      cursor: pointer;\n",
              "      display: none;\n",
              "      fill: #1967D2;\n",
              "      height: 32px;\n",
              "      padding: 0 0 0 0;\n",
              "      width: 32px;\n",
              "    }\n",
              "\n",
              "    .colab-df-convert:hover {\n",
              "      background-color: #E2EBFA;\n",
              "      box-shadow: 0px 1px 2px rgba(60, 64, 67, 0.3), 0px 1px 3px 1px rgba(60, 64, 67, 0.15);\n",
              "      fill: #174EA6;\n",
              "    }\n",
              "\n",
              "    [theme=dark] .colab-df-convert {\n",
              "      background-color: #3B4455;\n",
              "      fill: #D2E3FC;\n",
              "    }\n",
              "\n",
              "    [theme=dark] .colab-df-convert:hover {\n",
              "      background-color: #434B5C;\n",
              "      box-shadow: 0px 1px 3px 1px rgba(0, 0, 0, 0.15);\n",
              "      filter: drop-shadow(0px 1px 2px rgba(0, 0, 0, 0.3));\n",
              "      fill: #FFFFFF;\n",
              "    }\n",
              "  </style>\n",
              "\n",
              "      <script>\n",
              "        const buttonEl =\n",
              "          document.querySelector('#df-0008ee15-1df8-4b02-92d9-77c1843f6d7b button.colab-df-convert');\n",
              "        buttonEl.style.display =\n",
              "          google.colab.kernel.accessAllowed ? 'block' : 'none';\n",
              "\n",
              "        async function convertToInteractive(key) {\n",
              "          const element = document.querySelector('#df-0008ee15-1df8-4b02-92d9-77c1843f6d7b');\n",
              "          const dataTable =\n",
              "            await google.colab.kernel.invokeFunction('convertToInteractive',\n",
              "                                                     [key], {});\n",
              "          if (!dataTable) return;\n",
              "\n",
              "          const docLinkHtml = 'Like what you see? Visit the ' +\n",
              "            '<a target=\"_blank\" href=https://colab.research.google.com/notebooks/data_table.ipynb>data table notebook</a>'\n",
              "            + ' to learn more about interactive tables.';\n",
              "          element.innerHTML = '';\n",
              "          dataTable['output_type'] = 'display_data';\n",
              "          await google.colab.output.renderOutput(dataTable, element);\n",
              "          const docLink = document.createElement('div');\n",
              "          docLink.innerHTML = docLinkHtml;\n",
              "          element.appendChild(docLink);\n",
              "        }\n",
              "      </script>\n",
              "    </div>\n",
              "  </div>\n",
              "  "
            ]
          },
          "metadata": {},
          "execution_count": 19
        }
      ],
      "source": [
        "df_close = dff[close_cols].copy()\n",
        "df_close.rename(columns={colname: colname.split()[0] for colname in df_close.columns}, inplace=True)\n",
        "df_close.head()"
      ]
    },
    {
      "cell_type": "code",
      "execution_count": 20,
      "metadata": {
        "id": "5ibv4FbOZhhX"
      },
      "outputs": [],
      "source": [
        "import numpy as np"
      ]
    },
    {
      "cell_type": "markdown",
      "metadata": {
        "id": "07Xc6nxRZhhY"
      },
      "source": [
        "For Loop"
      ]
    },
    {
      "cell_type": "code",
      "execution_count": 21,
      "metadata": {
        "id": "ILI_7QvcZhhZ"
      },
      "outputs": [],
      "source": [
        "iters = 100"
      ]
    },
    {
      "cell_type": "code",
      "execution_count": 22,
      "metadata": {
        "id": "xO0vGvRoZhhZ"
      },
      "outputs": [],
      "source": [
        "old_coeffs = np.ones(12) / 12.0"
      ]
    },
    {
      "cell_type": "code",
      "execution_count": 23,
      "metadata": {
        "colab": {
          "base_uri": "https://localhost:8080/"
        },
        "id": "jnZYkeeOZhha",
        "outputId": "0807e11c-5b85-41fa-cc30-b0cec23b529c"
      },
      "outputs": [
        {
          "output_type": "execute_result",
          "data": {
            "text/plain": [
              "array([0.08333333, 0.08333333, 0.08333333, 0.08333333, 0.08333333,\n",
              "       0.08333333, 0.08333333, 0.08333333, 0.08333333, 0.08333333,\n",
              "       0.08333333, 0.08333333])"
            ]
          },
          "metadata": {},
          "execution_count": 23
        }
      ],
      "source": [
        "old_coeffs"
      ]
    },
    {
      "cell_type": "code",
      "execution_count": 24,
      "metadata": {
        "id": "q6bfDfEUZhha"
      },
      "outputs": [],
      "source": [
        "profits = []"
      ]
    },
    {
      "cell_type": "code",
      "execution_count": 25,
      "metadata": {
        "colab": {
          "base_uri": "https://localhost:8080/",
          "height": 1000
        },
        "id": "ZtjesjYTZhha",
        "outputId": "1fbc393b-ae1e-45b0-d269-00a5c3c05c6e"
      },
      "outputs": [
        {
          "output_type": "stream",
          "name": "stdout",
          "text": [
            "Iteration: 1\n",
            "1/1 [==============================] - 0s 428ms/step\n",
            "Profit = -13.505220566271305\n",
            "Cumulative Profit = -13.505220566271305\n",
            "---------------\n",
            "Iteration: 2\n",
            "1/1 [==============================] - 0s 421ms/step\n",
            "Profit = 13.829353332519531\n",
            "Cumulative Profit = 0.3241327662482263\n",
            "---------------\n",
            "Iteration: 3\n",
            "1/1 [==============================] - 0s 419ms/step\n",
            "Profit = -2.21490478515625\n",
            "Cumulative Profit = -1.8907720189080237\n",
            "---------------\n",
            "Iteration: 4\n",
            "1/1 [==============================] - 0s 412ms/step\n",
            "Profit = -5.07794189453125\n",
            "Cumulative Profit = -6.968713913439274\n",
            "---------------\n",
            "Iteration: 5\n",
            "1/1 [==============================] - 0s 427ms/step\n",
            "Profit = -4.969795227050781\n",
            "Cumulative Profit = -11.938509140490055\n",
            "---------------\n",
            "Iteration: 6\n",
            "1/1 [==============================] - 0s 414ms/step\n",
            "Profit = 13.721271514892578\n",
            "Cumulative Profit = 1.7827623744025232\n",
            "---------------\n",
            "Iteration: 7\n",
            "1/1 [==============================] - 0s 412ms/step\n",
            "Profit = 7.454875946044922\n",
            "Cumulative Profit = 9.237638320447445\n",
            "---------------\n",
            "Iteration: 8\n",
            "1/1 [==============================] - 1s 951ms/step\n",
            "Profit = 14.099288940429688\n",
            "Cumulative Profit = 23.336927260877133\n",
            "---------------\n",
            "Iteration: 9\n",
            "1/1 [==============================] - 0s 433ms/step\n",
            "Profit = 5.56427001953125\n",
            "Cumulative Profit = 28.901197280408383\n",
            "---------------\n",
            "Iteration: 10\n",
            "1/1 [==============================] - 0s 414ms/step\n",
            "Profit = -2.8089752197265625\n",
            "Cumulative Profit = 26.09222206068182\n",
            "---------------\n",
            "Iteration: 11\n",
            "1/1 [==============================] - 0s 431ms/step\n",
            "Profit = 6.698511123657227\n",
            "Cumulative Profit = 32.79073318433905\n",
            "---------------\n",
            "Iteration: 12\n",
            "1/1 [==============================] - 1s 620ms/step\n",
            "Profit = -7.671075820922852\n",
            "Cumulative Profit = 25.119657363416195\n",
            "---------------\n",
            "Iteration: 13\n",
            "1/1 [==============================] - 0s 432ms/step\n",
            "Profit = 20.31201171875\n",
            "Cumulative Profit = 45.431669082166195\n",
            "---------------\n",
            "Iteration: 14\n",
            "1/1 [==============================] - 0s 415ms/step\n",
            "Profit = -0.4324493408203125\n",
            "Cumulative Profit = 44.99921974134588\n",
            "---------------\n",
            "Iteration: 15\n",
            "1/1 [==============================] - 0s 408ms/step\n",
            "Profit = -9.021347045898438\n",
            "Cumulative Profit = 35.977872695447445\n",
            "---------------\n",
            "Iteration: 16\n",
            "1/1 [==============================] - 0s 438ms/step\n",
            "Profit = 1.7286911010742188\n",
            "Cumulative Profit = 37.706563796521664\n",
            "---------------\n",
            "Iteration: 17\n",
            "1/1 [==============================] - 0s 432ms/step\n",
            "Profit = 10.588134765625\n",
            "Cumulative Profit = 48.294698562146664\n",
            "---------------\n",
            "Iteration: 18\n",
            "1/1 [==============================] - 0s 428ms/step\n",
            "Profit = -1.0803852081298828\n",
            "Cumulative Profit = 47.21431335401678\n",
            "---------------\n",
            "Iteration: 19\n",
            "1/1 [==============================] - 0s 422ms/step\n",
            "Profit = 6.968513488769531\n",
            "Cumulative Profit = 54.18282684278631\n",
            "---------------\n",
            "Iteration: 20\n",
            "1/1 [==============================] - 0s 398ms/step\n",
            "Profit = 6.212440490722656\n",
            "Cumulative Profit = 60.39526733350897\n",
            "---------------\n",
            "Iteration: 21\n",
            "1/1 [==============================] - 0s 417ms/step\n",
            "Profit = -36.193870544433594\n",
            "Cumulative Profit = 24.201396789075375\n",
            "---------------\n",
            "Iteration: 22\n",
            "1/1 [==============================] - 0s 426ms/step\n",
            "Profit = 12.262580871582031\n",
            "Cumulative Profit = 36.463977660657406\n",
            "---------------\n",
            "Iteration: 23\n",
            "1/1 [==============================] - 0s 414ms/step\n",
            "Profit = 10.04815673828125\n",
            "Cumulative Profit = 46.512134398938656\n",
            "---------------\n",
            "Iteration: 24\n",
            "1/1 [==============================] - 0s 436ms/step\n",
            "Profit = 13.937088012695312\n",
            "Cumulative Profit = 60.44922241163397\n",
            "---------------\n",
            "Iteration: 25\n",
            "1/1 [==============================] - 1s 621ms/step\n",
            "Profit = 12.532829284667969\n",
            "Cumulative Profit = 72.98205169630194\n",
            "---------------\n",
            "Iteration: 26\n",
            "1/1 [==============================] - 1s 609ms/step\n",
            "Profit = -3.133077621459961\n",
            "Cumulative Profit = 69.84897407484198\n",
            "---------------\n",
            "Iteration: 27\n",
            "1/1 [==============================] - 1s 610ms/step\n",
            "Profit = -16.476337432861328\n",
            "Cumulative Profit = 53.37263664198065\n",
            "---------------\n",
            "Iteration: 28\n",
            "1/1 [==============================] - 1s 630ms/step\n",
            "Profit = 4.429740905761719\n",
            "Cumulative Profit = 57.80237754774237\n",
            "---------------\n",
            "Iteration: 29\n",
            "1/1 [==============================] - 1s 560ms/step\n",
            "Profit = 7.5629425048828125\n",
            "Cumulative Profit = 65.36532005262518\n",
            "---------------\n",
            "Iteration: 30\n",
            "1/1 [==============================] - 1s 604ms/step\n",
            "Profit = 21.6082763671875\n",
            "Cumulative Profit = 86.97359641981268\n",
            "---------------\n",
            "Iteration: 31\n",
            "1/1 [==============================] - 1s 599ms/step\n",
            "Profit = -14.099445343017578\n",
            "Cumulative Profit = 72.8741510767951\n",
            "---------------\n",
            "Iteration: 32\n",
            "1/1 [==============================] - 1s 1s/step\n",
            "Profit = -16.260238647460938\n",
            "Cumulative Profit = 56.613912429334164\n",
            "---------------\n",
            "Iteration: 33\n",
            "1/1 [==============================] - 1s 588ms/step\n",
            "Profit = 1.4586334228515625\n",
            "Cumulative Profit = 58.072545852185726\n",
            "---------------\n",
            "Iteration: 34\n",
            "1/1 [==============================] - 1s 608ms/step\n",
            "Profit = -3.025146484375\n",
            "Cumulative Profit = 55.047399367810726\n",
            "---------------\n",
            "Iteration: 35\n",
            "1/1 [==============================] - 1s 635ms/step\n",
            "Profit = -5.564323425292969\n",
            "Cumulative Profit = 49.48307594251776\n",
            "---------------\n",
            "Iteration: 36\n",
            "1/1 [==============================] - 0s 425ms/step\n",
            "Profit = -4.429637908935547\n",
            "Cumulative Profit = 45.05343803358221\n",
            "---------------\n",
            "Iteration: 37\n",
            "1/1 [==============================] - 0s 443ms/step\n",
            "Profit = 1.7287216186523438\n",
            "Cumulative Profit = 46.782159652234554\n",
            "---------------\n",
            "Iteration: 38\n",
            "1/1 [==============================] - 0s 452ms/step\n",
            "Profit = -8.157035827636719\n",
            "Cumulative Profit = 38.625123824597836\n",
            "---------------\n",
            "Iteration: 39\n",
            "1/1 [==============================] - 0s 421ms/step\n",
            "Profit = -2.7012100219726562\n",
            "Cumulative Profit = 35.92391380262518\n",
            "---------------\n",
            "Iteration: 40\n",
            "1/1 [==============================] - 0s 434ms/step\n",
            "Profit = -8.643291473388672\n",
            "Cumulative Profit = 27.280622329236508\n",
            "---------------\n",
            "Iteration: 41\n",
            "1/1 [==============================] - 0s 467ms/step\n",
            "Profit = -10.480010986328125\n",
            "Cumulative Profit = 16.800611342908383\n",
            "---------------\n",
            "Iteration: 42\n",
            "1/1 [==============================] - 0s 414ms/step\n",
            "Profit = 14.85551643371582\n",
            "Cumulative Profit = 31.656127776624203\n",
            "---------------\n",
            "Iteration: 43\n",
            "1/1 [==============================] - 0s 443ms/step\n",
            "Profit = 4.267839431762695\n",
            "Cumulative Profit = 35.9239672083869\n",
            "---------------\n",
            "Iteration: 44\n",
            "1/1 [==============================] - 0s 417ms/step\n",
            "Profit = -9.129554748535156\n",
            "Cumulative Profit = 26.794412459851742\n",
            "---------------\n",
            "Iteration: 45\n",
            "1/1 [==============================] - 0s 437ms/step\n",
            "Profit = 9.39959716796875\n",
            "Cumulative Profit = 36.19400962782049\n",
            "---------------\n",
            "Iteration: 46\n",
            "1/1 [==============================] - 0s 437ms/step\n",
            "Profit = -25.659870147705078\n",
            "Cumulative Profit = 10.534139480115414\n",
            "---------------\n",
            "Iteration: 47\n",
            "1/1 [==============================] - 0s 423ms/step\n",
            "Profit = 19.33953857421875\n",
            "Cumulative Profit = 29.873678054334164\n",
            "---------------\n",
            "Iteration: 48\n",
            "1/1 [==============================] - 0s 424ms/step\n",
            "Profit = -8.049076080322266\n",
            "Cumulative Profit = 21.824601974011898\n",
            "---------------\n",
            "Iteration: 49\n",
            "1/1 [==============================] - 0s 446ms/step\n",
            "Profit = 6.428508758544922\n",
            "Cumulative Profit = 28.25311073255682\n",
            "---------------\n",
            "Iteration: 50\n",
            "1/1 [==============================] - 0s 432ms/step\n",
            "Profit = 8.967369079589844\n",
            "Cumulative Profit = 37.220479812146664\n",
            "---------------\n",
            "Iteration: 51\n"
          ]
        },
        {
          "output_type": "error",
          "ename": "KeyboardInterrupt",
          "evalue": "ignored",
          "traceback": [
            "\u001b[0;31m---------------------------------------------------------------------------\u001b[0m",
            "\u001b[0;31mKeyboardInterrupt\u001b[0m                         Traceback (most recent call last)",
            "\u001b[0;32m<ipython-input-25-ce50315b36c3>\u001b[0m in \u001b[0;36m<cell line: 1>\u001b[0;34m()\u001b[0m\n\u001b[1;32m      3\u001b[0m     \u001b[0mmodel\u001b[0m \u001b[0;34m=\u001b[0m \u001b[0mModel\u001b[0m\u001b[0;34m(\u001b[0m\u001b[0;34m)\u001b[0m\u001b[0;34m\u001b[0m\u001b[0;34m\u001b[0m\u001b[0m\n\u001b[1;32m      4\u001b[0m     \u001b[0mnext_index\u001b[0m \u001b[0;34m=\u001b[0m \u001b[0mi\u001b[0m\u001b[0;34m-\u001b[0m\u001b[0miters\u001b[0m\u001b[0;34m\u001b[0m\u001b[0;34m\u001b[0m\u001b[0m\n\u001b[0;32m----> 5\u001b[0;31m     \u001b[0mcoeffs\u001b[0m \u001b[0;34m=\u001b[0m \u001b[0mmodel\u001b[0m\u001b[0;34m.\u001b[0m\u001b[0mget_allocations\u001b[0m\u001b[0;34m(\u001b[0m\u001b[0mdf_close\u001b[0m\u001b[0;34m[\u001b[0m\u001b[0mi\u001b[0m\u001b[0;34m:\u001b[0m\u001b[0mnext_index\u001b[0m\u001b[0;34m]\u001b[0m\u001b[0;34m)\u001b[0m\u001b[0;34m\u001b[0m\u001b[0;34m\u001b[0m\u001b[0m\n\u001b[0m\u001b[1;32m      6\u001b[0m     \u001b[0mhourly_profit\u001b[0m \u001b[0;34m=\u001b[0m \u001b[0mnp\u001b[0m\u001b[0;34m.\u001b[0m\u001b[0msum\u001b[0m\u001b[0;34m(\u001b[0m\u001b[0;34m(\u001b[0m \u001b[0mnp\u001b[0m\u001b[0;34m.\u001b[0m\u001b[0mmultiply\u001b[0m\u001b[0;34m(\u001b[0m\u001b[0mdf_close\u001b[0m\u001b[0;34m.\u001b[0m\u001b[0miloc\u001b[0m\u001b[0;34m[\u001b[0m\u001b[0mnext_index\u001b[0m\u001b[0;34m-\u001b[0m\u001b[0;36m1\u001b[0m\u001b[0;34m]\u001b[0m\u001b[0;34m.\u001b[0m\u001b[0mto_numpy\u001b[0m\u001b[0;34m(\u001b[0m\u001b[0;34m)\u001b[0m\u001b[0;34m[\u001b[0m\u001b[0;36m0\u001b[0m\u001b[0;34m]\u001b[0m\u001b[0;34m,\u001b[0m \u001b[0mold_coeffs\u001b[0m\u001b[0;34m)\u001b[0m \u001b[0;34m-\u001b[0m \u001b[0mnp\u001b[0m\u001b[0;34m.\u001b[0m\u001b[0mmultiply\u001b[0m\u001b[0;34m(\u001b[0m\u001b[0mdf_close\u001b[0m\u001b[0;34m.\u001b[0m\u001b[0miloc\u001b[0m\u001b[0;34m[\u001b[0m\u001b[0mnext_index\u001b[0m\u001b[0;34m]\u001b[0m\u001b[0;34m.\u001b[0m\u001b[0mto_numpy\u001b[0m\u001b[0;34m(\u001b[0m\u001b[0;34m)\u001b[0m\u001b[0;34m[\u001b[0m\u001b[0;36m0\u001b[0m\u001b[0;34m]\u001b[0m\u001b[0;34m,\u001b[0m \u001b[0mcoeffs\u001b[0m\u001b[0;34m)\u001b[0m\u001b[0;34m)\u001b[0m\u001b[0;34m)\u001b[0m\u001b[0;34m\u001b[0m\u001b[0;34m\u001b[0m\u001b[0m\n\u001b[1;32m      7\u001b[0m     \u001b[0mprint\u001b[0m\u001b[0;34m(\u001b[0m\u001b[0;34mf\"Profit = {hourly_profit}\"\u001b[0m\u001b[0;34m)\u001b[0m\u001b[0;34m\u001b[0m\u001b[0;34m\u001b[0m\u001b[0m\n",
            "\u001b[0;32m/content/Model.py\u001b[0m in \u001b[0;36mget_allocations\u001b[0;34m(self, data)\u001b[0m\n\u001b[1;32m     69\u001b[0m \u001b[0;34m\u001b[0m\u001b[0m\n\u001b[1;32m     70\u001b[0m         \u001b[0mfit_predict_data\u001b[0m \u001b[0;34m=\u001b[0m \u001b[0mdata_w_ret\u001b[0m\u001b[0;34m[\u001b[0m\u001b[0mnp\u001b[0m\u001b[0;34m.\u001b[0m\u001b[0mnewaxis\u001b[0m\u001b[0;34m,\u001b[0m\u001b[0;34m:\u001b[0m\u001b[0;34m]\u001b[0m\u001b[0;34m\u001b[0m\u001b[0;34m\u001b[0m\u001b[0m\n\u001b[0;32m---> 71\u001b[0;31m         \u001b[0mself\u001b[0m\u001b[0;34m.\u001b[0m\u001b[0mmodel\u001b[0m\u001b[0;34m.\u001b[0m\u001b[0mfit\u001b[0m\u001b[0;34m(\u001b[0m\u001b[0mfit_predict_data\u001b[0m\u001b[0;34m,\u001b[0m \u001b[0mnp\u001b[0m\u001b[0;34m.\u001b[0m\u001b[0mzeros\u001b[0m\u001b[0;34m(\u001b[0m\u001b[0;34m(\u001b[0m\u001b[0;36m1\u001b[0m\u001b[0;34m,\u001b[0m \u001b[0mlen\u001b[0m\u001b[0;34m(\u001b[0m\u001b[0mdata\u001b[0m\u001b[0;34m.\u001b[0m\u001b[0mcolumns\u001b[0m\u001b[0;34m)\u001b[0m\u001b[0;34m)\u001b[0m\u001b[0;34m)\u001b[0m\u001b[0;34m,\u001b[0m \u001b[0mepochs\u001b[0m\u001b[0;34m=\u001b[0m\u001b[0;36m50\u001b[0m\u001b[0;34m,\u001b[0m \u001b[0mshuffle\u001b[0m\u001b[0;34m=\u001b[0m\u001b[0;32mFalse\u001b[0m\u001b[0;34m,\u001b[0m \u001b[0mverbose\u001b[0m\u001b[0;34m=\u001b[0m\u001b[0;36m0\u001b[0m\u001b[0;34m)\u001b[0m\u001b[0;34m\u001b[0m\u001b[0;34m\u001b[0m\u001b[0m\n\u001b[0m\u001b[1;32m     72\u001b[0m         \u001b[0;32mreturn\u001b[0m \u001b[0mself\u001b[0m\u001b[0;34m.\u001b[0m\u001b[0mmodel\u001b[0m\u001b[0;34m.\u001b[0m\u001b[0mpredict\u001b[0m\u001b[0;34m(\u001b[0m\u001b[0mfit_predict_data\u001b[0m\u001b[0;34m)\u001b[0m\u001b[0;34m[\u001b[0m\u001b[0;36m0\u001b[0m\u001b[0;34m]\u001b[0m\u001b[0;34m\u001b[0m\u001b[0;34m\u001b[0m\u001b[0m\n",
            "\u001b[0;32m/usr/local/lib/python3.10/dist-packages/keras/utils/traceback_utils.py\u001b[0m in \u001b[0;36merror_handler\u001b[0;34m(*args, **kwargs)\u001b[0m\n\u001b[1;32m     63\u001b[0m         \u001b[0mfiltered_tb\u001b[0m \u001b[0;34m=\u001b[0m \u001b[0;32mNone\u001b[0m\u001b[0;34m\u001b[0m\u001b[0;34m\u001b[0m\u001b[0m\n\u001b[1;32m     64\u001b[0m         \u001b[0;32mtry\u001b[0m\u001b[0;34m:\u001b[0m\u001b[0;34m\u001b[0m\u001b[0;34m\u001b[0m\u001b[0m\n\u001b[0;32m---> 65\u001b[0;31m             \u001b[0;32mreturn\u001b[0m \u001b[0mfn\u001b[0m\u001b[0;34m(\u001b[0m\u001b[0;34m*\u001b[0m\u001b[0margs\u001b[0m\u001b[0;34m,\u001b[0m \u001b[0;34m**\u001b[0m\u001b[0mkwargs\u001b[0m\u001b[0;34m)\u001b[0m\u001b[0;34m\u001b[0m\u001b[0;34m\u001b[0m\u001b[0m\n\u001b[0m\u001b[1;32m     66\u001b[0m         \u001b[0;32mexcept\u001b[0m \u001b[0mException\u001b[0m \u001b[0;32mas\u001b[0m \u001b[0me\u001b[0m\u001b[0;34m:\u001b[0m\u001b[0;34m\u001b[0m\u001b[0;34m\u001b[0m\u001b[0m\n\u001b[1;32m     67\u001b[0m             \u001b[0mfiltered_tb\u001b[0m \u001b[0;34m=\u001b[0m \u001b[0m_process_traceback_frames\u001b[0m\u001b[0;34m(\u001b[0m\u001b[0me\u001b[0m\u001b[0;34m.\u001b[0m\u001b[0m__traceback__\u001b[0m\u001b[0;34m)\u001b[0m\u001b[0;34m\u001b[0m\u001b[0;34m\u001b[0m\u001b[0m\n",
            "\u001b[0;32m/usr/local/lib/python3.10/dist-packages/keras/engine/training.py\u001b[0m in \u001b[0;36mfit\u001b[0;34m(self, x, y, batch_size, epochs, verbose, callbacks, validation_split, validation_data, shuffle, class_weight, sample_weight, initial_epoch, steps_per_epoch, validation_steps, validation_batch_size, validation_freq, max_queue_size, workers, use_multiprocessing)\u001b[0m\n\u001b[1;32m   1683\u001b[0m                         ):\n\u001b[1;32m   1684\u001b[0m                             \u001b[0mcallbacks\u001b[0m\u001b[0;34m.\u001b[0m\u001b[0mon_train_batch_begin\u001b[0m\u001b[0;34m(\u001b[0m\u001b[0mstep\u001b[0m\u001b[0;34m)\u001b[0m\u001b[0;34m\u001b[0m\u001b[0;34m\u001b[0m\u001b[0m\n\u001b[0;32m-> 1685\u001b[0;31m                             \u001b[0mtmp_logs\u001b[0m \u001b[0;34m=\u001b[0m \u001b[0mself\u001b[0m\u001b[0;34m.\u001b[0m\u001b[0mtrain_function\u001b[0m\u001b[0;34m(\u001b[0m\u001b[0miterator\u001b[0m\u001b[0;34m)\u001b[0m\u001b[0;34m\u001b[0m\u001b[0;34m\u001b[0m\u001b[0m\n\u001b[0m\u001b[1;32m   1686\u001b[0m                             \u001b[0;32mif\u001b[0m \u001b[0mdata_handler\u001b[0m\u001b[0;34m.\u001b[0m\u001b[0mshould_sync\u001b[0m\u001b[0;34m:\u001b[0m\u001b[0;34m\u001b[0m\u001b[0;34m\u001b[0m\u001b[0m\n\u001b[1;32m   1687\u001b[0m                                 \u001b[0mcontext\u001b[0m\u001b[0;34m.\u001b[0m\u001b[0masync_wait\u001b[0m\u001b[0;34m(\u001b[0m\u001b[0;34m)\u001b[0m\u001b[0;34m\u001b[0m\u001b[0;34m\u001b[0m\u001b[0m\n",
            "\u001b[0;32m/usr/local/lib/python3.10/dist-packages/tensorflow/python/util/traceback_utils.py\u001b[0m in \u001b[0;36merror_handler\u001b[0;34m(*args, **kwargs)\u001b[0m\n\u001b[1;32m    148\u001b[0m     \u001b[0mfiltered_tb\u001b[0m \u001b[0;34m=\u001b[0m \u001b[0;32mNone\u001b[0m\u001b[0;34m\u001b[0m\u001b[0;34m\u001b[0m\u001b[0m\n\u001b[1;32m    149\u001b[0m     \u001b[0;32mtry\u001b[0m\u001b[0;34m:\u001b[0m\u001b[0;34m\u001b[0m\u001b[0;34m\u001b[0m\u001b[0m\n\u001b[0;32m--> 150\u001b[0;31m       \u001b[0;32mreturn\u001b[0m \u001b[0mfn\u001b[0m\u001b[0;34m(\u001b[0m\u001b[0;34m*\u001b[0m\u001b[0margs\u001b[0m\u001b[0;34m,\u001b[0m \u001b[0;34m**\u001b[0m\u001b[0mkwargs\u001b[0m\u001b[0;34m)\u001b[0m\u001b[0;34m\u001b[0m\u001b[0;34m\u001b[0m\u001b[0m\n\u001b[0m\u001b[1;32m    151\u001b[0m     \u001b[0;32mexcept\u001b[0m \u001b[0mException\u001b[0m \u001b[0;32mas\u001b[0m \u001b[0me\u001b[0m\u001b[0;34m:\u001b[0m\u001b[0;34m\u001b[0m\u001b[0;34m\u001b[0m\u001b[0m\n\u001b[1;32m    152\u001b[0m       \u001b[0mfiltered_tb\u001b[0m \u001b[0;34m=\u001b[0m \u001b[0m_process_traceback_frames\u001b[0m\u001b[0;34m(\u001b[0m\u001b[0me\u001b[0m\u001b[0;34m.\u001b[0m\u001b[0m__traceback__\u001b[0m\u001b[0;34m)\u001b[0m\u001b[0;34m\u001b[0m\u001b[0;34m\u001b[0m\u001b[0m\n",
            "\u001b[0;32m/usr/local/lib/python3.10/dist-packages/tensorflow/python/eager/polymorphic_function/polymorphic_function.py\u001b[0m in \u001b[0;36m__call__\u001b[0;34m(self, *args, **kwds)\u001b[0m\n\u001b[1;32m    892\u001b[0m \u001b[0;34m\u001b[0m\u001b[0m\n\u001b[1;32m    893\u001b[0m       \u001b[0;32mwith\u001b[0m \u001b[0mOptionalXlaContext\u001b[0m\u001b[0;34m(\u001b[0m\u001b[0mself\u001b[0m\u001b[0;34m.\u001b[0m\u001b[0m_jit_compile\u001b[0m\u001b[0;34m)\u001b[0m\u001b[0;34m:\u001b[0m\u001b[0;34m\u001b[0m\u001b[0;34m\u001b[0m\u001b[0m\n\u001b[0;32m--> 894\u001b[0;31m         \u001b[0mresult\u001b[0m \u001b[0;34m=\u001b[0m \u001b[0mself\u001b[0m\u001b[0;34m.\u001b[0m\u001b[0m_call\u001b[0m\u001b[0;34m(\u001b[0m\u001b[0;34m*\u001b[0m\u001b[0margs\u001b[0m\u001b[0;34m,\u001b[0m \u001b[0;34m**\u001b[0m\u001b[0mkwds\u001b[0m\u001b[0;34m)\u001b[0m\u001b[0;34m\u001b[0m\u001b[0;34m\u001b[0m\u001b[0m\n\u001b[0m\u001b[1;32m    895\u001b[0m \u001b[0;34m\u001b[0m\u001b[0m\n\u001b[1;32m    896\u001b[0m       \u001b[0mnew_tracing_count\u001b[0m \u001b[0;34m=\u001b[0m \u001b[0mself\u001b[0m\u001b[0;34m.\u001b[0m\u001b[0mexperimental_get_tracing_count\u001b[0m\u001b[0;34m(\u001b[0m\u001b[0;34m)\u001b[0m\u001b[0;34m\u001b[0m\u001b[0;34m\u001b[0m\u001b[0m\n",
            "\u001b[0;32m/usr/local/lib/python3.10/dist-packages/tensorflow/python/eager/polymorphic_function/polymorphic_function.py\u001b[0m in \u001b[0;36m_call\u001b[0;34m(self, *args, **kwds)\u001b[0m\n\u001b[1;32m    924\u001b[0m       \u001b[0;31m# In this case we have created variables on the first call, so we run the\u001b[0m\u001b[0;34m\u001b[0m\u001b[0;34m\u001b[0m\u001b[0m\n\u001b[1;32m    925\u001b[0m       \u001b[0;31m# defunned version which is guaranteed to never create variables.\u001b[0m\u001b[0;34m\u001b[0m\u001b[0;34m\u001b[0m\u001b[0m\n\u001b[0;32m--> 926\u001b[0;31m       \u001b[0;32mreturn\u001b[0m \u001b[0mself\u001b[0m\u001b[0;34m.\u001b[0m\u001b[0m_no_variable_creation_fn\u001b[0m\u001b[0;34m(\u001b[0m\u001b[0;34m*\u001b[0m\u001b[0margs\u001b[0m\u001b[0;34m,\u001b[0m \u001b[0;34m**\u001b[0m\u001b[0mkwds\u001b[0m\u001b[0;34m)\u001b[0m  \u001b[0;31m# pylint: disable=not-callable\u001b[0m\u001b[0;34m\u001b[0m\u001b[0;34m\u001b[0m\u001b[0m\n\u001b[0m\u001b[1;32m    927\u001b[0m     \u001b[0;32melif\u001b[0m \u001b[0mself\u001b[0m\u001b[0;34m.\u001b[0m\u001b[0m_variable_creation_fn\u001b[0m \u001b[0;32mis\u001b[0m \u001b[0;32mnot\u001b[0m \u001b[0;32mNone\u001b[0m\u001b[0;34m:\u001b[0m\u001b[0;34m\u001b[0m\u001b[0;34m\u001b[0m\u001b[0m\n\u001b[1;32m    928\u001b[0m       \u001b[0;31m# Release the lock early so that multiple threads can perform the call\u001b[0m\u001b[0;34m\u001b[0m\u001b[0;34m\u001b[0m\u001b[0m\n",
            "\u001b[0;32m/usr/local/lib/python3.10/dist-packages/tensorflow/python/eager/polymorphic_function/tracing_compiler.py\u001b[0m in \u001b[0;36m__call__\u001b[0;34m(self, *args, **kwargs)\u001b[0m\n\u001b[1;32m    141\u001b[0m       (concrete_function,\n\u001b[1;32m    142\u001b[0m        filtered_flat_args) = self._maybe_define_function(args, kwargs)\n\u001b[0;32m--> 143\u001b[0;31m     return concrete_function._call_flat(\n\u001b[0m\u001b[1;32m    144\u001b[0m         filtered_flat_args, captured_inputs=concrete_function.captured_inputs)  # pylint: disable=protected-access\n\u001b[1;32m    145\u001b[0m \u001b[0;34m\u001b[0m\u001b[0m\n",
            "\u001b[0;32m/usr/local/lib/python3.10/dist-packages/tensorflow/python/eager/polymorphic_function/monomorphic_function.py\u001b[0m in \u001b[0;36m_call_flat\u001b[0;34m(self, args, captured_inputs, cancellation_manager)\u001b[0m\n\u001b[1;32m   1755\u001b[0m         and executing_eagerly):\n\u001b[1;32m   1756\u001b[0m       \u001b[0;31m# No tape is watching; skip to running the function.\u001b[0m\u001b[0;34m\u001b[0m\u001b[0;34m\u001b[0m\u001b[0m\n\u001b[0;32m-> 1757\u001b[0;31m       return self._build_call_outputs(self._inference_function.call(\n\u001b[0m\u001b[1;32m   1758\u001b[0m           ctx, args, cancellation_manager=cancellation_manager))\n\u001b[1;32m   1759\u001b[0m     forward_backward = self._select_forward_and_backward_functions(\n",
            "\u001b[0;32m/usr/local/lib/python3.10/dist-packages/tensorflow/python/eager/polymorphic_function/monomorphic_function.py\u001b[0m in \u001b[0;36mcall\u001b[0;34m(self, ctx, args, cancellation_manager)\u001b[0m\n\u001b[1;32m    379\u001b[0m       \u001b[0;32mwith\u001b[0m \u001b[0m_InterpolateFunctionError\u001b[0m\u001b[0;34m(\u001b[0m\u001b[0mself\u001b[0m\u001b[0;34m)\u001b[0m\u001b[0;34m:\u001b[0m\u001b[0;34m\u001b[0m\u001b[0;34m\u001b[0m\u001b[0m\n\u001b[1;32m    380\u001b[0m         \u001b[0;32mif\u001b[0m \u001b[0mcancellation_manager\u001b[0m \u001b[0;32mis\u001b[0m \u001b[0;32mNone\u001b[0m\u001b[0;34m:\u001b[0m\u001b[0;34m\u001b[0m\u001b[0;34m\u001b[0m\u001b[0m\n\u001b[0;32m--> 381\u001b[0;31m           outputs = execute.execute(\n\u001b[0m\u001b[1;32m    382\u001b[0m               \u001b[0mstr\u001b[0m\u001b[0;34m(\u001b[0m\u001b[0mself\u001b[0m\u001b[0;34m.\u001b[0m\u001b[0msignature\u001b[0m\u001b[0;34m.\u001b[0m\u001b[0mname\u001b[0m\u001b[0;34m)\u001b[0m\u001b[0;34m,\u001b[0m\u001b[0;34m\u001b[0m\u001b[0;34m\u001b[0m\u001b[0m\n\u001b[1;32m    383\u001b[0m               \u001b[0mnum_outputs\u001b[0m\u001b[0;34m=\u001b[0m\u001b[0mself\u001b[0m\u001b[0;34m.\u001b[0m\u001b[0m_num_outputs\u001b[0m\u001b[0;34m,\u001b[0m\u001b[0;34m\u001b[0m\u001b[0;34m\u001b[0m\u001b[0m\n",
            "\u001b[0;32m/usr/local/lib/python3.10/dist-packages/tensorflow/python/eager/execute.py\u001b[0m in \u001b[0;36mquick_execute\u001b[0;34m(op_name, num_outputs, inputs, attrs, ctx, name)\u001b[0m\n\u001b[1;32m     50\u001b[0m   \u001b[0;32mtry\u001b[0m\u001b[0;34m:\u001b[0m\u001b[0;34m\u001b[0m\u001b[0;34m\u001b[0m\u001b[0m\n\u001b[1;32m     51\u001b[0m     \u001b[0mctx\u001b[0m\u001b[0;34m.\u001b[0m\u001b[0mensure_initialized\u001b[0m\u001b[0;34m(\u001b[0m\u001b[0;34m)\u001b[0m\u001b[0;34m\u001b[0m\u001b[0;34m\u001b[0m\u001b[0m\n\u001b[0;32m---> 52\u001b[0;31m     tensors = pywrap_tfe.TFE_Py_Execute(ctx._handle, device_name, op_name,\n\u001b[0m\u001b[1;32m     53\u001b[0m                                         inputs, attrs, num_outputs)\n\u001b[1;32m     54\u001b[0m   \u001b[0;32mexcept\u001b[0m \u001b[0mcore\u001b[0m\u001b[0;34m.\u001b[0m\u001b[0m_NotOkStatusException\u001b[0m \u001b[0;32mas\u001b[0m \u001b[0me\u001b[0m\u001b[0;34m:\u001b[0m\u001b[0;34m\u001b[0m\u001b[0;34m\u001b[0m\u001b[0m\n",
            "\u001b[0;31mKeyboardInterrupt\u001b[0m: "
          ]
        }
      ],
      "source": [
        "for i in range(iters):\n",
        "    print(f\"Iteration: {i+1}\")\n",
        "    model = Model()\n",
        "    next_index = i-iters\n",
        "    coeffs = model.get_allocations(df_close[i:next_index])\n",
        "    hourly_profit = np.sum(( np.multiply(df_close.iloc[next_index-1].to_numpy()[0], old_coeffs) - np.multiply(df_close.iloc[next_index].to_numpy()[0], coeffs)))\n",
        "    print(f\"Profit = {hourly_profit}\")\n",
        "    profits.append(hourly_profit)\n",
        "    print(f\"Cumulative Profit = {sum(profits)}\")\n",
        "    old_coeffs = coeffs\n",
        "    print(\"---------------\")"
      ]
    },
    {
      "cell_type": "code",
      "execution_count": 26,
      "metadata": {
        "colab": {
          "base_uri": "https://localhost:8080/"
        },
        "id": "HArCC6ylZhhb",
        "outputId": "6b6a5069-ff95-430c-e63f-aaf4d67addd7"
      },
      "outputs": [
        {
          "output_type": "execute_result",
          "data": {
            "text/plain": [
              "[-13.505220566271305,\n",
              " 13.829353,\n",
              " -2.2149048,\n",
              " -5.077942,\n",
              " -4.969795,\n",
              " 13.7212715,\n",
              " 7.454876,\n",
              " 14.099289,\n",
              " 5.56427,\n",
              " -2.8089752,\n",
              " 6.698511,\n",
              " -7.671076,\n",
              " 20.312012,\n",
              " -0.43244934,\n",
              " -9.021347,\n",
              " 1.7286911,\n",
              " 10.588135,\n",
              " -1.0803852,\n",
              " 6.9685135,\n",
              " 6.2124405,\n",
              " -36.19387,\n",
              " 12.262581,\n",
              " 10.048157,\n",
              " 13.937088,\n",
              " 12.532829,\n",
              " -3.1330776,\n",
              " -16.476337,\n",
              " 4.429741,\n",
              " 7.5629425,\n",
              " 21.608276,\n",
              " -14.099445,\n",
              " -16.260239,\n",
              " 1.4586334,\n",
              " -3.0251465,\n",
              " -5.5643234,\n",
              " -4.429638,\n",
              " 1.7287216,\n",
              " -8.157036,\n",
              " -2.70121,\n",
              " -8.643291,\n",
              " -10.480011,\n",
              " 14.855516,\n",
              " 4.2678394,\n",
              " -9.129555,\n",
              " 9.399597,\n",
              " -25.65987,\n",
              " 19.339539,\n",
              " -8.049076,\n",
              " 6.4285088,\n",
              " 8.967369]"
            ]
          },
          "metadata": {},
          "execution_count": 26
        }
      ],
      "source": [
        "profits"
      ]
    },
    {
      "cell_type": "code",
      "execution_count": 27,
      "metadata": {
        "colab": {
          "base_uri": "https://localhost:8080/"
        },
        "id": "PCgMNBGgZhhb",
        "outputId": "ed8e5dd5-8b8b-4ea6-d403-ff78a02ade48"
      },
      "outputs": [
        {
          "output_type": "execute_result",
          "data": {
            "text/plain": [
              "37.220479812146664"
            ]
          },
          "metadata": {},
          "execution_count": 27
        }
      ],
      "source": [
        "sum(profits)"
      ]
    },
    {
      "cell_type": "code",
      "execution_count": 28,
      "metadata": {
        "id": "Au-c1Sp3Zhhb"
      },
      "outputs": [],
      "source": [
        "import matplotlib.pyplot as plt"
      ]
    },
    {
      "cell_type": "code",
      "source": [
        "plt.plot(profits)"
      ],
      "metadata": {
        "colab": {
          "base_uri": "https://localhost:8080/",
          "height": 447
        },
        "id": "uj4t3F_JdMm_",
        "outputId": "f675254c-f680-4a04-f7e9-f41dc1659a44"
      },
      "execution_count": 29,
      "outputs": [
        {
          "output_type": "execute_result",
          "data": {
            "text/plain": [
              "[<matplotlib.lines.Line2D at 0x7fd90eff7e50>]"
            ]
          },
          "metadata": {},
          "execution_count": 29
        },
        {
          "output_type": "display_data",
          "data": {
            "text/plain": [
              "<Figure size 640x480 with 1 Axes>"
            ],
            "image/png": "[encoded data removed]"
          },
          "metadata": {}
        }
      ]
    },
    {
      "cell_type": "code",
      "source": [
        "plt.plot(np.cumsum(profits))"
      ],
      "metadata": {
        "colab": {
          "base_uri": "https://localhost:8080/",
          "height": 447
        },
        "id": "AQ0AJSVsdO2M",
        "outputId": "00cf4427-2780-435b-f83c-01be3a0674a6"
      },
      "execution_count": 30,
      "outputs": [
        {
          "output_type": "execute_result",
          "data": {
            "text/plain": [
              "[<matplotlib.lines.Line2D at 0x7fd90ef66500>]"
            ]
          },
          "metadata": {},
          "execution_count": 30
        },
        {
          "output_type": "display_data",
          "data": {
            "text/plain": [
              "<Figure size 640x480 with 1 Axes>"
            ],
            "image/png": "[encoded data removed]"
          },
          "metadata": {}
        }
      ]
    },
    {
      "cell_type": "code",
      "source": [],
      "metadata": {
        "id": "8G8SAVQmdjKN"
      },
      "execution_count": null,
      "outputs": []
    }
  ],
  "metadata": {
    "kernelspec": {
      "display_name": "Python 3",
      "name": "python3"
    },
    "language_info": {
      "codemirror_mode": {
        "name": "ipython",
        "version": 3
      },
      "file_extension": ".py",
      "mimetype": "text/x-python",
      "name": "python",
      "nbconvert_exporter": "python",
      "pygments_lexer": "ipython3",
      "version": "3.11.0"
    },
    "orig_nbformat": 4,
    "colab": {
      "provenance": [],
      "gpuType": "T4"
    },
    "accelerator": "GPU"
  },
  "nbformat": 4,
  "nbformat_minor": 0
}