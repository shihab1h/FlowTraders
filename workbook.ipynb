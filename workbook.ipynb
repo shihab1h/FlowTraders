{
 "cells": [
  {
   "cell_type": "code",
   "execution_count": 1,
   "metadata": {},
   "outputs": [],
   "source": [
    "# Based on Zhang/Oxford paper and github/shilewenuw implementation"
   ]
  },
  {
   "cell_type": "code",
   "execution_count": 2,
   "metadata": {},
   "outputs": [],
   "source": [
    "from Model import Model\n",
    "import pandas as pd"
   ]
  },
  {
   "cell_type": "code",
   "execution_count": 23,
   "metadata": {},
   "outputs": [],
   "source": [
    "dfr = pd.read_csv(\"new_returns.csv\") # returns\n",
    "dff = pd.read_csv(\"new_features.csv\") # features"
   ]
  },
  {
   "cell_type": "code",
   "execution_count": 25,
   "metadata": {},
   "outputs": [
    {
     "data": {
      "text/plain": [
       "(20153, 312)"
      ]
     },
     "execution_count": 25,
     "metadata": {},
     "output_type": "execute_result"
    }
   ],
   "source": [
    "dff.shape"
   ]
  },
  {
   "cell_type": "code",
   "execution_count": 4,
   "metadata": {},
   "outputs": [
    {
     "data": {
      "text/plain": [
       "['AdM close',\n",
       " 'AL close',\n",
       " 'A close',\n",
       " 'GO close',\n",
       " 'JS close',\n",
       " 'KvW close',\n",
       " 'KA close',\n",
       " 'SA close',\n",
       " 'S close',\n",
       " 'Ve close',\n",
       " 'Vi close',\n",
       " 'Z close']"
      ]
     },
     "execution_count": 4,
     "metadata": {},
     "output_type": "execute_result"
    }
   ],
   "source": [
    "close_cols = [colname for colname in dff.columns if colname.split()[1] == \"close\"]\n",
    "close_cols"
   ]
  },
  {
   "cell_type": "code",
   "execution_count": 24,
   "metadata": {},
   "outputs": [
    {
     "data": {
      "text/html": [
       "<div>\n",
       "<style scoped>\n",
       "    .dataframe tbody tr th:only-of-type {\n",
       "        vertical-align: middle;\n",
       "    }\n",
       "\n",
       "    .dataframe tbody tr th {\n",
       "        vertical-align: top;\n",
       "    }\n",
       "\n",
       "    .dataframe thead th {\n",
       "        text-align: right;\n",
       "    }\n",
       "</style>\n",
       "<table border=\"1\" class=\"dataframe\">\n",
       "  <thead>\n",
       "    <tr style=\"text-align: right;\">\n",
       "      <th></th>\n",
       "      <th>AdM</th>\n",
       "      <th>AL</th>\n",
       "      <th>A</th>\n",
       "      <th>GO</th>\n",
       "      <th>JS</th>\n",
       "      <th>KvW</th>\n",
       "      <th>KA</th>\n",
       "      <th>SA</th>\n",
       "      <th>S</th>\n",
       "      <th>Ve</th>\n",
       "      <th>Vi</th>\n",
       "      <th>Z</th>\n",
       "    </tr>\n",
       "  </thead>\n",
       "  <tbody>\n",
       "    <tr>\n",
       "      <th>0</th>\n",
       "      <td>229.912597</td>\n",
       "      <td>1048.195089</td>\n",
       "      <td>5258.509097</td>\n",
       "      <td>785.749481</td>\n",
       "      <td>69.970392</td>\n",
       "      <td>21.790732</td>\n",
       "      <td>3065.433564</td>\n",
       "      <td>6791.196084</td>\n",
       "      <td>30.613892</td>\n",
       "      <td>61.681587</td>\n",
       "      <td>3877.559631</td>\n",
       "      <td>521.150292</td>\n",
       "    </tr>\n",
       "    <tr>\n",
       "      <th>1</th>\n",
       "      <td>222.457725</td>\n",
       "      <td>1026.394270</td>\n",
       "      <td>5125.827632</td>\n",
       "      <td>767.167567</td>\n",
       "      <td>68.744350</td>\n",
       "      <td>20.976506</td>\n",
       "      <td>3004.030094</td>\n",
       "      <td>6612.089249</td>\n",
       "      <td>29.557249</td>\n",
       "      <td>60.201578</td>\n",
       "      <td>3843.123472</td>\n",
       "      <td>499.684147</td>\n",
       "    </tr>\n",
       "    <tr>\n",
       "      <th>2</th>\n",
       "      <td>215.705123</td>\n",
       "      <td>1025.809013</td>\n",
       "      <td>5080.297423</td>\n",
       "      <td>758.672978</td>\n",
       "      <td>69.116046</td>\n",
       "      <td>21.017217</td>\n",
       "      <td>2963.956251</td>\n",
       "      <td>6939.832461</td>\n",
       "      <td>30.060412</td>\n",
       "      <td>60.136283</td>\n",
       "      <td>3805.161980</td>\n",
       "      <td>499.684147</td>\n",
       "    </tr>\n",
       "    <tr>\n",
       "      <th>3</th>\n",
       "      <td>219.054413</td>\n",
       "      <td>1035.758381</td>\n",
       "      <td>5120.078868</td>\n",
       "      <td>763.318457</td>\n",
       "      <td>69.215905</td>\n",
       "      <td>21.159707</td>\n",
       "      <td>2969.127069</td>\n",
       "      <td>6837.273361</td>\n",
       "      <td>30.146668</td>\n",
       "      <td>60.223342</td>\n",
       "      <td>3811.257294</td>\n",
       "      <td>492.358399</td>\n",
       "    </tr>\n",
       "    <tr>\n",
       "      <th>4</th>\n",
       "      <td>213.922436</td>\n",
       "      <td>1022.882729</td>\n",
       "      <td>5066.500391</td>\n",
       "      <td>753.363860</td>\n",
       "      <td>68.486382</td>\n",
       "      <td>20.966328</td>\n",
       "      <td>2947.366541</td>\n",
       "      <td>6743.632443</td>\n",
       "      <td>30.132292</td>\n",
       "      <td>59.374513</td>\n",
       "      <td>3777.989667</td>\n",
       "      <td>478.388368</td>\n",
       "    </tr>\n",
       "  </tbody>\n",
       "</table>\n",
       "</div>"
      ],
      "text/plain": [
       "          AdM           AL            A          GO         JS        KvW   \n",
       "0  229.912597  1048.195089  5258.509097  785.749481  69.970392  21.790732  \\\n",
       "1  222.457725  1026.394270  5125.827632  767.167567  68.744350  20.976506   \n",
       "2  215.705123  1025.809013  5080.297423  758.672978  69.116046  21.017217   \n",
       "3  219.054413  1035.758381  5120.078868  763.318457  69.215905  21.159707   \n",
       "4  213.922436  1022.882729  5066.500391  753.363860  68.486382  20.966328   \n",
       "\n",
       "            KA           SA          S         Ve           Vi           Z  \n",
       "0  3065.433564  6791.196084  30.613892  61.681587  3877.559631  521.150292  \n",
       "1  3004.030094  6612.089249  29.557249  60.201578  3843.123472  499.684147  \n",
       "2  2963.956251  6939.832461  30.060412  60.136283  3805.161980  499.684147  \n",
       "3  2969.127069  6837.273361  30.146668  60.223342  3811.257294  492.358399  \n",
       "4  2947.366541  6743.632443  30.132292  59.374513  3777.989667  478.388368  "
      ]
     },
     "execution_count": 24,
     "metadata": {},
     "output_type": "execute_result"
    }
   ],
   "source": [
    "df_close = dff[close_cols].copy()\n",
    "df_close.rename(columns={colname: colname.split()[0] for colname in df_close.columns}, inplace=True)\n",
    "df_close.head()"
   ]
  },
  {
   "cell_type": "code",
   "execution_count": 6,
   "metadata": {},
   "outputs": [],
   "source": [
    "model = Model()"
   ]
  },
  {
   "cell_type": "code",
   "execution_count": 7,
   "metadata": {},
   "outputs": [
    {
     "name": "stdout",
     "output_type": "stream",
     "text": [
      "1/1 [==============================] - 1s 544ms/step\n"
     ]
    }
   ],
   "source": [
    "coeffs_tm2 = model.get_allocations(df_close[:-2])"
   ]
  },
  {
   "cell_type": "code",
   "execution_count": 8,
   "metadata": {},
   "outputs": [
    {
     "data": {
      "text/plain": [
       "array([0.2859278 , 0.03623775, 0.18083054, 0.08025122, 0.05769403,\n",
       "       0.02290204, 0.05734631, 0.06026483, 0.11917441, 0.03499258,\n",
       "       0.02101563, 0.04336284], dtype=float32)"
      ]
     },
     "execution_count": 8,
     "metadata": {},
     "output_type": "execute_result"
    }
   ],
   "source": [
    "coeffs_tm2"
   ]
  },
  {
   "cell_type": "code",
   "execution_count": 9,
   "metadata": {},
   "outputs": [
    {
     "data": {
      "text/plain": [
       "0.999999962747097"
      ]
     },
     "execution_count": 9,
     "metadata": {},
     "output_type": "execute_result"
    }
   ],
   "source": [
    "sum(coeffs_tm2)"
   ]
  },
  {
   "cell_type": "code",
   "execution_count": 10,
   "metadata": {},
   "outputs": [],
   "source": [
    "model = Model()"
   ]
  },
  {
   "cell_type": "code",
   "execution_count": 11,
   "metadata": {},
   "outputs": [
    {
     "name": "stdout",
     "output_type": "stream",
     "text": [
      "1/1 [==============================] - 1s 544ms/step\n"
     ]
    }
   ],
   "source": [
    "coeffs_tm1 = model.get_allocations(df_close[:-1])"
   ]
  },
  {
   "cell_type": "code",
   "execution_count": 12,
   "metadata": {},
   "outputs": [
    {
     "data": {
      "text/plain": [
       "array([0.17749152, 0.08226611, 0.02629446, 0.08284896, 0.11644927,\n",
       "       0.03614454, 0.04697401, 0.1573087 , 0.14407232, 0.02979228,\n",
       "       0.04659253, 0.05376534], dtype=float32)"
      ]
     },
     "execution_count": 12,
     "metadata": {},
     "output_type": "execute_result"
    }
   ],
   "source": [
    "coeffs_tm1"
   ]
  },
  {
   "cell_type": "code",
   "execution_count": 13,
   "metadata": {},
   "outputs": [
    {
     "data": {
      "text/plain": [
       "array([-0.11,  0.05, -0.15,  0.  ,  0.06,  0.01, -0.01,  0.1 ,  0.02,\n",
       "       -0.01,  0.03,  0.01], dtype=float32)"
      ]
     },
     "execution_count": 13,
     "metadata": {},
     "output_type": "execute_result"
    }
   ],
   "source": [
    "import numpy as np\n",
    "np.round(coeffs_tm1 - coeffs_tm2,2)"
   ]
  },
  {
   "cell_type": "code",
   "execution_count": 14,
   "metadata": {},
   "outputs": [
    {
     "data": {
      "text/html": [
       "<div>\n",
       "<style scoped>\n",
       "    .dataframe tbody tr th:only-of-type {\n",
       "        vertical-align: middle;\n",
       "    }\n",
       "\n",
       "    .dataframe tbody tr th {\n",
       "        vertical-align: top;\n",
       "    }\n",
       "\n",
       "    .dataframe thead th {\n",
       "        text-align: right;\n",
       "    }\n",
       "</style>\n",
       "<table border=\"1\" class=\"dataframe\">\n",
       "  <thead>\n",
       "    <tr style=\"text-align: right;\">\n",
       "      <th></th>\n",
       "      <th>AdM</th>\n",
       "      <th>AL</th>\n",
       "      <th>A</th>\n",
       "      <th>GO</th>\n",
       "      <th>JS</th>\n",
       "      <th>KvW</th>\n",
       "      <th>KA</th>\n",
       "      <th>SA</th>\n",
       "      <th>S</th>\n",
       "      <th>Ve</th>\n",
       "      <th>Vi</th>\n",
       "      <th>Z</th>\n",
       "    </tr>\n",
       "  </thead>\n",
       "  <tbody>\n",
       "    <tr>\n",
       "      <th>1725</th>\n",
       "      <td>229.043523</td>\n",
       "      <td>1045.770874</td>\n",
       "      <td>5221.756555</td>\n",
       "      <td>757.077607</td>\n",
       "      <td>71.917289</td>\n",
       "      <td>19.020708</td>\n",
       "      <td>2887.268990</td>\n",
       "      <td>12099.843032</td>\n",
       "      <td>32.793155</td>\n",
       "      <td>54.264949</td>\n",
       "      <td>3003.830105</td>\n",
       "      <td>437.004896</td>\n",
       "    </tr>\n",
       "    <tr>\n",
       "      <th>1726</th>\n",
       "      <td>231.478717</td>\n",
       "      <td>1059.066738</td>\n",
       "      <td>5253.608610</td>\n",
       "      <td>760.743514</td>\n",
       "      <td>72.627394</td>\n",
       "      <td>19.097151</td>\n",
       "      <td>2916.247762</td>\n",
       "      <td>12264.722412</td>\n",
       "      <td>34.133605</td>\n",
       "      <td>55.387076</td>\n",
       "      <td>3020.917053</td>\n",
       "      <td>443.717365</td>\n",
       "    </tr>\n",
       "  </tbody>\n",
       "</table>\n",
       "</div>"
      ],
      "text/plain": [
       "             AdM           AL            A          GO         JS        KvW   \n",
       "1725  229.043523  1045.770874  5221.756555  757.077607  71.917289  19.020708  \\\n",
       "1726  231.478717  1059.066738  5253.608610  760.743514  72.627394  19.097151   \n",
       "\n",
       "               KA            SA          S         Ve           Vi           Z  \n",
       "1725  2887.268990  12099.843032  32.793155  54.264949  3003.830105  437.004896  \n",
       "1726  2916.247762  12264.722412  34.133605  55.387076  3020.917053  443.717365  "
      ]
     },
     "execution_count": 14,
     "metadata": {},
     "output_type": "execute_result"
    }
   ],
   "source": [
    "df_close[-2:]"
   ]
  },
  {
   "cell_type": "code",
   "execution_count": 15,
   "metadata": {},
   "outputs": [
    {
     "data": {
      "text/plain": [
       "480.40413651493293"
      ]
     },
     "execution_count": 15,
     "metadata": {},
     "output_type": "execute_result"
    }
   ],
   "source": [
    "np.sum(( np.multiply(df_close[-1:].to_numpy()[0], coeffs_tm1) - np.multiply(df_close[-2:-1].to_numpy()[0], coeffs_tm2)))"
   ]
  },
  {
   "attachments": {},
   "cell_type": "markdown",
   "metadata": {},
   "source": [
    "For Loop"
   ]
  },
  {
   "cell_type": "code",
   "execution_count": 16,
   "metadata": {},
   "outputs": [],
   "source": [
    "iters = 10"
   ]
  },
  {
   "cell_type": "code",
   "execution_count": 17,
   "metadata": {},
   "outputs": [],
   "source": [
    "old_coeffs = np.ones(12) / 12.0"
   ]
  },
  {
   "cell_type": "code",
   "execution_count": 18,
   "metadata": {},
   "outputs": [
    {
     "data": {
      "text/plain": [
       "array([0.08333333, 0.08333333, 0.08333333, 0.08333333, 0.08333333,\n",
       "       0.08333333, 0.08333333, 0.08333333, 0.08333333, 0.08333333,\n",
       "       0.08333333, 0.08333333])"
      ]
     },
     "execution_count": 18,
     "metadata": {},
     "output_type": "execute_result"
    }
   ],
   "source": [
    "old_coeffs"
   ]
  },
  {
   "cell_type": "code",
   "execution_count": 19,
   "metadata": {},
   "outputs": [],
   "source": [
    "profits = []"
   ]
  },
  {
   "cell_type": "code",
   "execution_count": 20,
   "metadata": {},
   "outputs": [
    {
     "name": "stdout",
     "output_type": "stream",
     "text": [
      "Iteration: 1\n"
     ]
    },
    {
     "name": "stdout",
     "output_type": "stream",
     "text": [
      "1/1 [==============================] - 1s 696ms/step\n",
      "Profit = -1.5152157855809776\n",
      "Cumulative Profit = -1.5152157855809776\n",
      "---------------\n",
      "Iteration: 2\n",
      "1/1 [==============================] - 1s 742ms/step\n",
      "Profit = 1.1093559265136719\n",
      "Cumulative Profit = -0.4058598590673057\n",
      "---------------\n",
      "Iteration: 3\n",
      "WARNING:tensorflow:5 out of the last 5 calls to <function Model.make_predict_function.<locals>.predict_function at 0x000001FEA373BD80> triggered tf.function retracing. Tracing is expensive and the excessive number of tracings could be due to (1) creating @tf.function repeatedly in a loop, (2) passing tensors with different shapes, (3) passing Python objects instead of tensors. For (1), please define your @tf.function outside of the loop. For (2), @tf.function has reduce_retracing=True option that can avoid unnecessary retracing. For (3), please refer to https://www.tensorflow.org/guide/function#controlling_retracing and https://www.tensorflow.org/api_docs/python/tf/function for  more details.\n",
      "1/1 [==============================] - 1s 526ms/step\n",
      "Profit = -0.6223340034484863\n",
      "Cumulative Profit = -1.028193862515792\n",
      "---------------\n",
      "Iteration: 4\n",
      "WARNING:tensorflow:6 out of the last 6 calls to <function Model.make_predict_function.<locals>.predict_function at 0x000001FEAF66F880> triggered tf.function retracing. Tracing is expensive and the excessive number of tracings could be due to (1) creating @tf.function repeatedly in a loop, (2) passing tensors with different shapes, (3) passing Python objects instead of tensors. For (1), please define your @tf.function outside of the loop. For (2), @tf.function has reduce_retracing=True option that can avoid unnecessary retracing. For (3), please refer to https://www.tensorflow.org/guide/function#controlling_retracing and https://www.tensorflow.org/api_docs/python/tf/function for  more details.\n",
      "1/1 [==============================] - 1s 544ms/step\n",
      "Profit = 1.596395492553711\n",
      "Cumulative Profit = 0.5682016300379189\n",
      "---------------\n",
      "Iteration: 5\n",
      "1/1 [==============================] - 1s 842ms/step\n",
      "Profit = -1.082322120666504\n",
      "Cumulative Profit = -0.514120490628585\n",
      "---------------\n",
      "Iteration: 6\n",
      "1/1 [==============================] - 1s 512ms/step\n",
      "Profit = -1.7046318054199219\n",
      "Cumulative Profit = -2.218752296048507\n",
      "---------------\n",
      "Iteration: 7\n",
      "1/1 [==============================] - 1s 522ms/step\n",
      "Profit = 1.2987799644470215\n",
      "Cumulative Profit = -0.9199723316014854\n",
      "---------------\n",
      "Iteration: 8\n",
      "1/1 [==============================] - 1s 523ms/step\n",
      "Profit = 0.18940973281860352\n",
      "Cumulative Profit = -0.7305625987828819\n",
      "---------------\n",
      "Iteration: 9\n",
      "1/1 [==============================] - 1s 522ms/step\n",
      "Profit = 0.5952706336975098\n",
      "Cumulative Profit = -0.1352919650853721\n",
      "---------------\n",
      "Iteration: 10\n",
      "1/1 [==============================] - 1s 521ms/step\n",
      "Profit = -2.435187816619873\n",
      "Cumulative Profit = -2.570479781705245\n",
      "---------------\n"
     ]
    }
   ],
   "source": [
    "for i in range(iters):\n",
    "    print(f\"Iteration: {i+1}\")\n",
    "    model = Model()\n",
    "    next_index = i-iters\n",
    "    coeffs = model.get_allocations(df_close[i:next_index])\n",
    "    hourly_profit = np.sum(( np.multiply(df_close.iloc[next_index-1].to_numpy()[0], old_coeffs) - np.multiply(df_close.iloc[next_index].to_numpy()[0], coeffs)))\n",
    "    print(f\"Profit = {hourly_profit}\")\n",
    "    profits.append(hourly_profit)\n",
    "    print(f\"Cumulative Profit = {sum(profits)}\")\n",
    "    old_coeffs = coeffs\n",
    "    print(\"---------------\")"
   ]
  },
  {
   "cell_type": "code",
   "execution_count": 21,
   "metadata": {},
   "outputs": [
    {
     "data": {
      "text/plain": [
       "[-1.5152157855809776,\n",
       " 1.1093559,\n",
       " -0.622334,\n",
       " 1.5963955,\n",
       " -1.0823221,\n",
       " -1.7046318,\n",
       " 1.29878,\n",
       " 0.18940973,\n",
       " 0.59527063,\n",
       " -2.4351878]"
      ]
     },
     "execution_count": 21,
     "metadata": {},
     "output_type": "execute_result"
    }
   ],
   "source": [
    "profits"
   ]
  },
  {
   "cell_type": "code",
   "execution_count": 22,
   "metadata": {},
   "outputs": [
    {
     "data": {
      "text/plain": [
       "-2.570479781705245"
      ]
     },
     "execution_count": 22,
     "metadata": {},
     "output_type": "execute_result"
    }
   ],
   "source": [
    "sum(profits)"
   ]
  },
  {
   "cell_type": "code",
   "execution_count": null,
   "metadata": {},
   "outputs": [],
   "source": []
  }
 ],
 "metadata": {
  "kernelspec": {
   "display_name": "Python 3",
   "language": "python",
   "name": "python3"
  },
  "language_info": {
   "codemirror_mode": {
    "name": "ipython",
    "version": 3
   },
   "file_extension": ".py",
   "mimetype": "text/x-python",
   "name": "python",
   "nbconvert_exporter": "python",
   "pygments_lexer": "ipython3",
   "version": "3.11.0"
  },
  "orig_nbformat": 4
 },
 "nbformat": 4,
 "nbformat_minor": 2
}
